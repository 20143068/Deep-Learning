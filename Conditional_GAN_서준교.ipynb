{
  "nbformat": 4,
  "nbformat_minor": 0,
  "metadata": {
    "colab": {
      "name": "Conditional GAN_서준교",
      "provenance": [],
      "collapsed_sections": []
    },
    "kernelspec": {
      "name": "python3",
      "display_name": "Python 3"
    }
  },
  "cells": [
    {
      "cell_type": "markdown",
      "metadata": {
        "id": "HfyISI8JcAoY",
        "colab_type": "text"
      },
      "source": [
        "## GAN 논문 소개\n",
        "Generative Adversarial Networks (GANs)은 최근 딥러닝 방법론 중 가장 각광받고 있는 생성 네트웍이다. Ian Goodfellow가 NIPS 2014 학술대회를 통해 발표한 이 기법은 기존의 생성 네트워크와는 달리 고품질 출력을 얻을 수 있는 것이 특징이다. 지난 4-5년 동안 GAN에 대한 수많은 연구가 이루어졌으며, 최근의 GAN 기법들은 그래픽스 렌더링을 한 것과 같은 매우 우수한 품질을 가지는 결과물도 얻어내고 있다. \n",
        "\n",
        "* GAN original paper\n",
        "* CGAN\n",
        "* LAPGAN\n",
        "* DCIGN\n",
        "* DCGAN\n",
        "* VAEGAN\n",
        "* InfoGAN\n",
        "* Pix2Pix\n",
        "* CycleGAN\n",
        "* WGAN\n",
        "* Pix2PixHD\n",
        "* HDGAN\n",
        "* BigGAN"
      ]
    },
    {
      "cell_type": "markdown",
      "metadata": {
        "id": "2r68JOfgcFbJ",
        "colab_type": "text"
      },
      "source": [
        "## GAN의 기본 아이디어\n",
        "\n",
        "GAN의 기본 아이디어는 원 논문에서 다음과 같이 소개하고 있다.\n",
        "> The generative model can be thought of as analogous to a team of counterfeiters, trying to produce face currency and use it without detection, while the discriminative model is analogous to the police, trying to detect the counterfeit currency. Competition in this game drives both teams to improve their methods until the ounterfeits are indistiguishable from the genuine articles. - Goodfellow et al. NIPS 2014.\n",
        "\n",
        "GAN은 generator(생성자, 이하 G)와 discriminator(판별자, 이하 D)라는 두 네트웍이 경쟁적 관계 속에 학습한다. \n",
        "\n",
        "생성자 G와 판별자 D는 게임이론(game theory)에 기반한 2인 플레이 최적화 게임 방식으로 학습하는데, 각자 게임에서 좋은 평가를 받는 방식은 서로 다르다. 생성자 G는 판별자 D의 실수를 최대한 많이 유도하는 데이터를 만들어내면 좋은 평가를 받는 반면, 판별자 D는 생성자 G가 만들어낸 데이터(generated data)와 진실 데이터(ground-truth data)를 잘 구분하면 좋은 평가를 받는다. \n",
        "\n",
        "이런 종류의 문제를 **minmax two-play game**이라 한다. \n",
        "\n",
        "## GAN 네트웍 구조\n",
        "\n",
        "![GAN](https://cdn-images-1.medium.com/max/800/1*XKanAdkjQbg1eDDMF2-4ow.png)\n",
        "\n",
        "[이미지 출처: Branko Blagojevic's Medium Post](https://medium.com/ml-everything/generating-letters-using-generative-adversarial-networks-gans-161b0be3c229)\n",
        "\n",
        "\n",
        "### Generator (생성자, G)\n",
        "생성자 G의 목표는 데이터 $x$를 만들어내는 확률 모델 $p_g$를 학습해 내는 것이다. \n",
        "\n",
        "입력으로 다음과 같이 어떤 확률분포를 따르는 노이즈 $z$가 있다고 하면,\n",
        "$$z \\sim p_z(z)$$\n",
        "생성자 G는 다음과 같이 노이즈 $z$를 입력으로 받아 생성 데이터를 만들어 내는 함수로 볼 수 있다.\n",
        "$$ G(z; \\theta_g) $$\n",
        "\n",
        "생성자 G에 대한 함수는 딥네트웍으로 모델링 가능하며, 학습은 파라메터 $\\theta_g$를 생성자의 목표에 맞게 최적화 시키는 과정으로 볼 수 있다.\n",
        "\n",
        "### Discriminator (판별자, D)\n",
        "판별자 D는 입력으로 데이터 $x$를 받고 이에 대한 판별을 한다. \n",
        "$$ D(x; \\theta_d)$$\n",
        "\n",
        "우리가 판별자에게 기대하는 바는 \n",
        "\n",
        "* 입력 데이터 $x$가 진실 데이터로부터 나왔으면 판별자 D가 1을 리턴해 주고,\n",
        "* 입력 데이터 $x$가 생성자 G가 만들어낸 것이라면 판별자 D는 0을 리턴해 주는 것이다.\n",
        "\n",
        "판별자 D에 대한 함수는 딥네트웍으로 모델링 가능하며, 학습은 파라메터 $\\theta_d$를 판별자의 목표에 맞게 최적화 시키는 과정으로 볼 수 있다.\n",
        "\n"
      ]
    },
    {
      "cell_type": "markdown",
      "metadata": {
        "id": "Iq5HQlEncJ3l",
        "colab_type": "text"
      },
      "source": [
        "\n",
        "\n",
        "### GAN 목적함수\n",
        "I. Goodfellow는 GAN 논문에서 이와 같은 minmax two-play game을 두개의 적대적 네트웍으로 모델링하고 턴제 게임 방식의 훈련법을 제시하였다.\n",
        "\n",
        "다음은 GAN 학습단계의 목적함수이다.\n",
        "\n",
        "$$\n",
        "\\begin{align}\n",
        "    \\min_{G}\\max_{D} V(G, D) = \\mathbb{E}_{\\mathbf{x} \\sim p_{\\textit{data}}(\\mathbf{x})}[\\log D(\\mathbf{x})] + \\mathbb{E}_{\\mathbf{z} \\sim p_\\mathbf{z}(\\mathbf{z})}[\\log(1 - D(G(\\mathbf{z})))]\n",
        "\\end{align}\n",
        "$$\n",
        "\n",
        "\n",
        "판별자 D가 똑똑하게 훈련된다면 \n",
        "* 진실 데이터를 봤을 때의 기대값, 즉 $\\mathbb{E}_{\\mathbf{x} \\sim p_{\\textit{data}}(\\mathbf{x})}[\\log D(\\mathbf{x})] = 0$이 되어야 한다.\n",
        "* 생성자 G가 만들어낸 데이터를 봤을 때의 기대값, 즉 $\\mathbb{E}_{\\mathbf{z} \\sim p_\\mathbf{z}(\\mathbf{z})}[\\log(1 - D(G(\\mathbf{z})))] = 0$이 되어야 한다.\n",
        "\n",
        "따라서, 판별자 D 입장에서 게임의 목표는 목적함수를 최대화 하는 것이다.\n",
        "\n",
        "\n",
        "생성자 G가 똑똑하게 훈련되었다면\n",
        "* 판별자 D를 속일만큼 양질의 데이터가 만들어졌기 때문에 $D(G(\\mathbf{z})) = 1$이 되어야 하므로, 기대값 $\\mathbb{E}_{\\mathbf{z} \\sim p_\\mathbf{z}(\\mathbf{z})}[\\log(1 - D(G(\\mathbf{z})))] = -\\infty$이 된다.\n",
        "\n",
        "따라서, 생성자 G 입장에서 게임의 목표는 목적함수를 최소화 하는 것이다.\n",
        "\n",
        "\n",
        "### GAN v.s. VAE\n",
        "\n",
        "학습 단계에서 VAE와 GAN은 다음 차이점이 있다.\n",
        "\n",
        "* VAE에서 latent variable은 backprop에 참여하는 반면, visible unit (예: 영상)은 backprop에 참여하지 않는다.\n",
        "* GAN에서 latent variable은 backprop에 참여하지 않는 반면, visible unit (예: 영상)은 backprop에 참여한다."
      ]
    },
    {
      "cell_type": "code",
      "metadata": {
        "id": "QwGCJ-KTb9wM",
        "colab_type": "code",
        "colab": {}
      },
      "source": [
        "!pip install -q --upgrade tf-nightly-gpu-2.0-preview\n",
        "!pip install -q tfp-nightly"
      ],
      "execution_count": 0,
      "outputs": []
    },
    {
      "cell_type": "code",
      "metadata": {
        "id": "tjOS-ombFU5o",
        "colab_type": "code",
        "outputId": "8d861b9e-f43c-4887-9d00-af51d121bcac",
        "colab": {
          "base_uri": "https://localhost:8080/",
          "height": 125
        }
      },
      "source": [
        "import sys\n",
        "import time\n",
        "import numpy as np\n",
        "import matplotlib.pyplot as plt\n",
        "\n",
        "import tensorflow as tf                       # 텐서플로우 임포트\n",
        "import tensorflow_probability as tfp\n",
        "\n",
        "from tensorflow.keras import models, layers   # 케라스 관련 모듈 임포트\n",
        "\n",
        "print(\"Python:\", sys.version)\n",
        "print(\"Numpy:\", np.__version__)\n",
        "\n",
        "print(\"Tensorflow: \", tf.__version__)        # 텐서플로우 버전을 확인하도록 한다.\n",
        "print(\"Keras: \", tf.keras.__version__)  # 케라스 버전을 확인한다.\n",
        "\n",
        "print(\"Tensorflow Probability: \", tfp.__version__)       # TFP 버젼을 확인한다."
      ],
      "execution_count": 0,
      "outputs": [
        {
          "output_type": "stream",
          "text": [
            "Python: 3.6.8 (default, Jan 14 2019, 11:02:34) \n",
            "[GCC 8.0.1 20180414 (experimental) [trunk revision 259383]]\n",
            "Numpy: 1.16.4\n",
            "Tensorflow:  2.0.0-dev20190620\n",
            "Keras:  2.2.4-tf\n",
            "Tensorflow Probability:  0.8.0-dev20190620\n"
          ],
          "name": "stdout"
        }
      ]
    },
    {
      "cell_type": "code",
      "metadata": {
        "id": "t_peb_6MFnMw",
        "colab_type": "code",
        "outputId": "0c5a3a22-ccbf-4927-d6b3-28cecc22ea98",
        "colab": {
          "base_uri": "https://localhost:8080/",
          "height": 125
        }
      },
      "source": [
        "# MNIST 데이터 로딩\n",
        "mnist = tf.keras.datasets.mnist\n",
        "\n",
        "(train_images, train_labels), (test_images, test_labels) = mnist.load_data()\n",
        "\n",
        "# Normalize the images to [-1, 1] (* tanh을 거친 값과 비교해야 하기 때문...)\n",
        "train_images = (train_images - 127.5) / 127.5 \n",
        "test_images = (test_images - 127.5) / 127.5 \n",
        "\n",
        "# tensorflow probablity layer가 float32를 입력을 받기 때문에 float64를 float32로 캐스팅\n",
        "train_images = train_images.astype('float32')\n",
        "test_images = test_images.astype('float32')\n",
        "\n",
        "# 데이터가 [-1, 1] 사이로 정규화 되었는지 확인\n",
        "print(np.amin(train_images), np.amax(train_images))\n",
        "\n",
        "\n",
        "print(train_images.shape)\n",
        "print(test_images.shape)\n",
        "print(train_images[0].shape)\n",
        "print(train_images[0][0][0].dtype)\n",
        "print(train_labels[0].dtype)"
      ],
      "execution_count": 0,
      "outputs": [
        {
          "output_type": "stream",
          "text": [
            "-1.0 1.0\n",
            "(60000, 28, 28)\n",
            "(10000, 28, 28)\n",
            "(28, 28)\n",
            "float32\n",
            "uint8\n"
          ],
          "name": "stdout"
        }
      ]
    },
    {
      "cell_type": "markdown",
      "metadata": {
        "id": "_dHEe7U9covN",
        "colab_type": "text"
      },
      "source": [
        "### MNIST 데이터의 label인 10차원 벡터를 condition으로 추가한다."
      ]
    },
    {
      "cell_type": "code",
      "metadata": {
        "id": "rQf5Uwj9cuz8",
        "colab_type": "code",
        "outputId": "1412994e-62c8-49cc-c6ee-856c9cb20e90",
        "colab": {
          "base_uri": "https://localhost:8080/",
          "height": 125
        }
      },
      "source": [
        "num_classes = 10\n",
        "\n",
        "train_label_onehots = tf.keras.utils.to_categorical(train_labels, num_classes)\n",
        "test_label_onehots  = tf.keras.utils.to_categorical(test_labels, num_classes)\n",
        "\n",
        "# 데이터 변환 확인\n",
        "print(train_label_onehots.shape)\n",
        "print(test_label_onehots.shape)\n",
        "\n",
        "print(train_label_onehots[0])\n",
        "print(train_labels[0])\n",
        "print(test_label_onehots[0])\n",
        "print(test_labels[0])"
      ],
      "execution_count": 0,
      "outputs": [
        {
          "output_type": "stream",
          "text": [
            "(60000, 10)\n",
            "(10000, 10)\n",
            "[0. 0. 0. 0. 0. 1. 0. 0. 0. 0.]\n",
            "5\n",
            "[0. 0. 0. 0. 0. 0. 0. 1. 0. 0.]\n",
            "7\n"
          ],
          "name": "stdout"
        }
      ]
    },
    {
      "cell_type": "code",
      "metadata": {
        "id": "8CdjNUPdccZj",
        "colab_type": "code",
        "colab": {}
      },
      "source": [
        "# 트레이닝 데이터 배치 사이즈 결정 및 셔플\n",
        "BUFFER_SIZE = 60000\n",
        "BATCH_SIZE = 100\n",
        "\n",
        "# Batch and shuffle the data\n",
        "train_dataset = tf.data.Dataset.from_tensor_slices((train_images, train_label_onehots)).shuffle(BUFFER_SIZE).batch(BATCH_SIZE)"
      ],
      "execution_count": 0,
      "outputs": []
    },
    {
      "cell_type": "markdown",
      "metadata": {
        "id": "TOhTib8qcTL9",
        "colab_type": "text"
      },
      "source": [
        "![GAN](https://cdn-images-1.medium.com/max/800/1*XKanAdkjQbg1eDDMF2-4ow.png)\n",
        "\n",
        "[이미지 출처: Branko Blagojevic's Medium Post](https://medium.com/ml-everything/generating-letters-using-generative-adversarial-networks-gans-161b0be3c229)"
      ]
    },
    {
      "cell_type": "code",
      "metadata": {
        "id": "Wi9LZIRKLNi8",
        "colab_type": "code",
        "colab": {}
      },
      "source": [
        "# Generator 모델 작성\n",
        "gen_input = tf.keras.Input(shape=(100,))\n",
        "gen_con = tf.keras.Input(shape=(10, ))\n",
        "\n",
        "gen_dense1 = layers.Dense(256)\n",
        "gen_LeakyReLU = layers.LeakyReLU()\n",
        "gen_dense2 = layers.Dense(28*28, activation='tanh')\n",
        "gen_reshape = layers.Reshape(target_shape=(28,28))\n",
        "\n",
        "\n",
        "x = tf.keras.layers.concatenate([gen_input, gen_con])\n",
        "x = gen_dense1(x)\n",
        "x = gen_LeakyReLU(x)\n",
        "x = gen_dense2(x)\n",
        "gen_output = gen_reshape(x)\n",
        "\n",
        "G = tf.keras.Model([gen_input, gen_con], gen_output)\n",
        "\n",
        "# G = tf.keras.models.Sequential([  ## GAN에는 Layer가 많으면 학습이 많이 더뎌지므로 적게 구성..\n",
        "#     layers.InputLayer(input_shape=(100,)),\n",
        "#     layers.Dense(256),\n",
        "#     layers.LeakyReLU(),\n",
        "#     layers.Dense(28*28, activation='tanh'),  ##여러 가지 실험을 통해 tanh 함수가 가장 효과가 좋다고 밝혀짐\n",
        "#     layers.Reshape(target_shape=(28,28)),\n",
        "# ])"
      ],
      "execution_count": 0,
      "outputs": []
    },
    {
      "cell_type": "markdown",
      "metadata": {
        "id": "9MJNRMf4dSRZ",
        "colab_type": "text"
      },
      "source": [
        "## Generator와 Discriminator의 구조\n",
        "Generator의 구조는 아래와 같다."
      ]
    },
    {
      "cell_type": "code",
      "metadata": {
        "id": "csR7CSoDdYOm",
        "colab_type": "code",
        "outputId": "c3ae3935-6d72-4d7e-ef7b-162aa4c4bfd5",
        "colab": {
          "base_uri": "https://localhost:8080/",
          "height": 1058
        }
      },
      "source": [
        "G.summary()\n",
        "tf.keras.utils.plot_model(G, 'generator.png', show_shapes=True)"
      ],
      "execution_count": 0,
      "outputs": [
        {
          "output_type": "stream",
          "text": [
            "Model: \"model\"\n",
            "__________________________________________________________________________________________________\n",
            "Layer (type)                    Output Shape         Param #     Connected to                     \n",
            "==================================================================================================\n",
            "input_1 (InputLayer)            [(None, 100)]        0                                            \n",
            "__________________________________________________________________________________________________\n",
            "input_2 (InputLayer)            [(None, 10)]         0                                            \n",
            "__________________________________________________________________________________________________\n",
            "concatenate (Concatenate)       (None, 110)          0           input_1[0][0]                    \n",
            "                                                                 input_2[0][0]                    \n",
            "__________________________________________________________________________________________________\n",
            "dense (Dense)                   (None, 256)          28416       concatenate[0][0]                \n",
            "__________________________________________________________________________________________________\n",
            "leaky_re_lu (LeakyReLU)         (None, 256)          0           dense[0][0]                      \n",
            "__________________________________________________________________________________________________\n",
            "dense_1 (Dense)                 (None, 784)          201488      leaky_re_lu[0][0]                \n",
            "__________________________________________________________________________________________________\n",
            "reshape (Reshape)               (None, 28, 28)       0           dense_1[0][0]                    \n",
            "==================================================================================================\n",
            "Total params: 229,904\n",
            "Trainable params: 229,904\n",
            "Non-trainable params: 0\n",
            "__________________________________________________________________________________________________\n"
          ],
          "name": "stdout"
        },
        {
          "output_type": "execute_result",
          "data": {
            "image/png": "[encoded data removed]",
            "text/plain": [
              "<IPython.core.display.Image object>"
            ]
          },
          "metadata": {
            "tags": []
          },
          "execution_count": 8
        }
      ]
    },
    {
      "cell_type": "markdown",
      "metadata": {
        "id": "uIpo9JTrfl8o",
        "colab_type": "text"
      },
      "source": [
        "위의 구조에서 알 수 있듯이, Generator의 입력으로는 (?, 100) 형태의 noise와 (?, 10) 형태의 condition이 합쳐진 (?, 110)의 텐서 구조가 들어오는 것을 알 수 있다. ?는 데이터가 몇 개가 들어올 지 모른다는 의미이다."
      ]
    },
    {
      "cell_type": "code",
      "metadata": {
        "id": "6J28npejMXSB",
        "colab_type": "code",
        "colab": {}
      },
      "source": [
        "# Discriminator 모델 작성\n",
        "dsc_input = tf.keras.Input(shape=(28,28))\n",
        "dsc_con = tf.keras.Input(shape=(10, ))\n",
        "\n",
        "dsc_Flatten = layers.Flatten()\n",
        "dsc_den1 = layers.Dense(256)\n",
        "dsc_LeakyReLU = layers.LeakyReLU()\n",
        "dsc_Dropout = layers.Dropout(0.3)\n",
        "dsc_den2 = layers.Dense(1)\n",
        "\n",
        "flat_img = dsc_Flatten(dsc_input)\n",
        "x = tf.keras.layers.concatenate([flat_img, dsc_con])\n",
        "x = dsc_den1(x)\n",
        "x = dsc_LeakyReLU(x)\n",
        "x = dsc_Dropout(x)\n",
        "dsc_output = dsc_den2(x)\n",
        "\n",
        "D = tf.keras.Model([dsc_input, dsc_con], dsc_output)\n",
        "\n",
        "# D = tf.keras.models.Sequential([\n",
        "#     layers.InputLayer(input_shape=(28,28)),\n",
        "#     layers.Flatten(),\n",
        "#     layers.Dense(256),\n",
        "#     layers.LeakyReLU(),\n",
        "#     layers.Dropout(0.3),  ## dropout이나 batch normalization을 많이 사용\n",
        "#     layers.Dense(1), ## true or false (1차원)\n",
        "# ])"
      ],
      "execution_count": 0,
      "outputs": []
    },
    {
      "cell_type": "markdown",
      "metadata": {
        "id": "HAHzWDR6fn3W",
        "colab_type": "text"
      },
      "source": [
        "Discriminator의 구조는 아래와 같다."
      ]
    },
    {
      "cell_type": "code",
      "metadata": {
        "id": "TIm5rmVVfsgf",
        "colab_type": "code",
        "outputId": "9297397d-39db-409d-fe85-5528e1adb5d2",
        "colab": {
          "base_uri": "https://localhost:8080/",
          "height": 1204
        }
      },
      "source": [
        "D.summary()\n",
        "tf.keras.utils.plot_model(D, \"discriminator.png\", show_shapes=True)"
      ],
      "execution_count": 0,
      "outputs": [
        {
          "output_type": "stream",
          "text": [
            "Model: \"model_1\"\n",
            "__________________________________________________________________________________________________\n",
            "Layer (type)                    Output Shape         Param #     Connected to                     \n",
            "==================================================================================================\n",
            "input_3 (InputLayer)            [(None, 28, 28)]     0                                            \n",
            "__________________________________________________________________________________________________\n",
            "flatten (Flatten)               (None, 784)          0           input_3[0][0]                    \n",
            "__________________________________________________________________________________________________\n",
            "input_4 (InputLayer)            [(None, 10)]         0                                            \n",
            "__________________________________________________________________________________________________\n",
            "concatenate_1 (Concatenate)     (None, 794)          0           flatten[0][0]                    \n",
            "                                                                 input_4[0][0]                    \n",
            "__________________________________________________________________________________________________\n",
            "dense_2 (Dense)                 (None, 256)          203520      concatenate_1[0][0]              \n",
            "__________________________________________________________________________________________________\n",
            "leaky_re_lu_1 (LeakyReLU)       (None, 256)          0           dense_2[0][0]                    \n",
            "__________________________________________________________________________________________________\n",
            "dropout (Dropout)               (None, 256)          0           leaky_re_lu_1[0][0]              \n",
            "__________________________________________________________________________________________________\n",
            "dense_3 (Dense)                 (None, 1)            257         dropout[0][0]                    \n",
            "==================================================================================================\n",
            "Total params: 203,777\n",
            "Trainable params: 203,777\n",
            "Non-trainable params: 0\n",
            "__________________________________________________________________________________________________\n"
          ],
          "name": "stdout"
        },
        {
          "output_type": "execute_result",
          "data": {
            "image/png": "[encoded data removed]",
            "text/plain": [
              "<IPython.core.display.Image object>"
            ]
          },
          "metadata": {
            "tags": []
          },
          "execution_count": 31
        }
      ]
    },
    {
      "cell_type": "markdown",
      "metadata": {
        "id": "ZoR2Nyw9fvc5",
        "colab_type": "text"
      },
      "source": [
        "위의 구조에서 알 수 있듯이, Discriminator의 입력으로는 (?, 794)의 텐서 구조가 들어오는 것을 확인할 수 있는데, 이는 28x28의 이차원 텐서 구조의 이미지를 Flatten 함수를 통해 1차원으로 만든 뒤, concatenate 함수를 통해 (?, 10)의 텐서 구조를 가진 condition과 결합하였기 때문이다."
      ]
    },
    {
      "cell_type": "code",
      "metadata": {
        "id": "A6J4pvGKMewU",
        "colab_type": "code",
        "outputId": "63710b6c-8163-4c4c-87fb-ec8f1da2fe6d",
        "colab": {
          "base_uri": "https://localhost:8080/",
          "height": 287
        }
      },
      "source": [
        "# Generator가 만들어 낸 노이즈 이미지 테스트 해보기\n",
        "test_noise = tf.random.normal([1, 100])  ## 100개의 noise 생성\n",
        "test_con = np.array([[0, 0, 0, 0, 0, 0, 0, 1, 0, 0]]).astype(\"float32\")\n",
        "fake_image_test = G([test_noise, test_con], training=False) ## 해당 노이즈를 G를 통해 학습\n",
        "\n",
        "plt.imshow(fake_image_test[0], cmap='gray')"
      ],
      "execution_count": 0,
      "outputs": [
        {
          "output_type": "execute_result",
          "data": {
            "text/plain": [
              "<matplotlib.image.AxesImage at 0x7f8a7e3c3c50>"
            ]
          },
          "metadata": {
            "tags": []
          },
          "execution_count": 10
        },
        {
          "output_type": "display_data",
          "data": {
            "image/png": "[encoded data removed]",
            "text/plain": [
              "<Figure size 432x288 with 1 Axes>"
            ]
          },
          "metadata": {
            "tags": []
          }
        }
      ]
    },
    {
      "cell_type": "code",
      "metadata": {
        "id": "GhUVFdsZbHFd",
        "colab_type": "code",
        "outputId": "7e289818-292e-45c0-de6c-cf6af51ab332",
        "colab": {
          "base_uri": "https://localhost:8080/",
          "height": 35
        }
      },
      "source": [
        "# Discriminator에게 generator가 만든 노이즈 영상을 보여주고, 판단을 내릴 수 있는 테스트 함.\n",
        "# 학습이 되지 않은 모델이기 때문에 자기 마음대로 판단함\n",
        "\n",
        "decision = D([fake_image_test, test_con], training=False)\n",
        "print(decision)"
      ],
      "execution_count": 0,
      "outputs": [
        {
          "output_type": "stream",
          "text": [
            "tf.Tensor([[-0.24074782]], shape=(1, 1), dtype=float32)\n"
          ],
          "name": "stdout"
        }
      ]
    },
    {
      "cell_type": "markdown",
      "metadata": {
        "id": "mailj2DcfQW4",
        "colab_type": "text"
      },
      "source": [
        "## GAN 목적함수\n",
        "GAN의 목적함수는 다음과 같다.\n",
        "\n",
        "$$\n",
        "\\begin{align}\n",
        "    \\min_{G}\\max_{D} V(G, D) = \\mathbb{E}_{\\mathbf{x} \\sim p_{\\textit{data}}(\\mathbf{x})}[\\log D(\\mathbf{x})] + \\mathbb{E}_{\\mathbf{z} \\sim p_\\mathbf{z}(\\mathbf{z})}[\\log(1 - D(G(\\mathbf{z})))]\n",
        "\\end{align}\n",
        "$$\n",
        "\n",
        "### Discriminator Loss\n",
        "판별자 D 입장에서는 GAN 목적함수를 다음과 같이 해석하고, 최대화 문제를 풀고자 한다.\n",
        "$$\n",
        "\\begin{align}\n",
        "    \\max_{D} V(D) = \\mathbb{E}_{\\mathbf{x} \\sim p_{\\textit{data}}(\\mathbf{x})}[\\log D(\\mathbf{x})] + \\mathbb{E}_{\\mathbf{z} \\sim p_\\mathbf{z}(\\mathbf{z})}[\\log(1 - D(\\mathbf{x}_{\\textrm{fake}}))]\n",
        "\\end{align}\n",
        "$$\n",
        "\n",
        "### Generator Loss\n",
        "생성자 G 입장에서는 GAN 목적함수를 다음과 같이 해석하고, 최소화 문제를 풀고자 한다.\n",
        "$$\n",
        "\\begin{align}\n",
        "    \\min_{G} V(G) = \\mathbb{E}_{\\mathbf{z} \\sim p_\\mathbf{z}(\\mathbf{z})}[\\log(1 - D(G(\\mathbf{z})))]\n",
        "\\end{align}\n",
        "$$"
      ]
    },
    {
      "cell_type": "code",
      "metadata": {
        "id": "kYLjyi4FbKKr",
        "colab_type": "code",
        "colab": {}
      },
      "source": [
        "# GAN 트레이닝에 쓰일 cross-entropy fuctor 정의\n",
        "\n",
        "cross_entropy = tf.keras.losses.BinaryCrossentropy(from_logits=True)"
      ],
      "execution_count": 0,
      "outputs": []
    },
    {
      "cell_type": "code",
      "metadata": {
        "id": "y0fo9VVvbKvH",
        "colab_type": "code",
        "colab": {}
      },
      "source": [
        "# Discriminator loss 정의\n",
        "\n",
        "def D_loss(real_output, fake_output):\n",
        "  real_loss = cross_entropy(tf.ones_like(real_output), real_output)\n",
        "  fake_loss = cross_entropy(tf.zeros_like(fake_output), fake_output)\n",
        "  total_loss = real_loss + fake_loss\n",
        "  return total_loss"
      ],
      "execution_count": 0,
      "outputs": []
    },
    {
      "cell_type": "code",
      "metadata": {
        "id": "-ejSo9OmbK3d",
        "colab_type": "code",
        "colab": {}
      },
      "source": [
        "# Generator loss 정의\n",
        "\n",
        "def G_loss(fake_output):\n",
        "  return cross_entropy(tf.ones_like(fake_output), fake_output)"
      ],
      "execution_count": 0,
      "outputs": []
    },
    {
      "cell_type": "code",
      "metadata": {
        "id": "RI2efy5GbMji",
        "colab_type": "code",
        "colab": {}
      },
      "source": [
        "# GAN 트레이닝에 쓰일 optimizer 정의\n",
        "\n",
        "G_optimizer = tf.keras.optimizers.Adam(1e-4)\n",
        "D_optimizer = tf.keras.optimizers.Adam(1e-4)"
      ],
      "execution_count": 0,
      "outputs": []
    },
    {
      "cell_type": "code",
      "metadata": {
        "id": "ucCcEk9pbNn5",
        "colab_type": "code",
        "colab": {}
      },
      "source": [
        "# 학습 루프 설정\n",
        "\n",
        "EPOCHS = 50\n",
        "noise_dim = 100\n",
        "\n",
        "seed = tf.random.normal([BATCH_SIZE, noise_dim])"
      ],
      "execution_count": 0,
      "outputs": []
    },
    {
      "cell_type": "markdown",
      "metadata": {
        "id": "QK3aA0C3dpo7",
        "colab_type": "text"
      },
      "source": [
        "![GAN](https://cdn-images-1.medium.com/max/800/1*XKanAdkjQbg1eDDMF2-4ow.png)\n",
        "\n",
        "[이미지 출처: Branko Blagojevic's Medium Post](https://medium.com/ml-everything/generating-letters-using-generative-adversarial-networks-gans-161b0be3c229)"
      ]
    },
    {
      "cell_type": "code",
      "metadata": {
        "id": "Cjj7fH15bOhr",
        "colab_type": "code",
        "colab": {}
      },
      "source": [
        "# 배치단위 학습 함수 설정 (* AutoGraph 기능 쓰기!)\n",
        "\n",
        "@tf.function  ## GPU 활성화 (학습이 빨라짐 (AutoGraph 기능))\n",
        "def train_step(real_images):  \n",
        "  \n",
        "  noises = tf.random.normal([BATCH_SIZE, noise_dim])\n",
        "  \n",
        "  with tf.GradientTape() as gen_tape, tf.GradientTape() as dsc_tape:  ## gradient를 만들고 다음 gradient에 back propagation 시키겠다.\n",
        "    fake_images = G([noises, real_images[1]], training=True)  ## 랜덤 노이즈 생성\n",
        "    \n",
        "    real_output = D([real_images[0], real_images[1]], training=True)\n",
        "    fake_output = D([fake_images, real_images[1]], training=True)\n",
        "    \n",
        "    gen_loss = G_loss(fake_output)  ## 처음엔 minimize하도록 수식을 측정\n",
        "    dsc_loss = D_loss(real_output, fake_output)\n",
        "    \n",
        "  gen_gradients = gen_tape.gradient(gen_loss, G.trainable_variables)  ## training 데이터에 대해 parameter update 시작\n",
        "  dsc_gradients = dsc_tape.gradient(dsc_loss, D.trainable_variables)\n",
        "  \n",
        "  G_optimizer.apply_gradients(zip(gen_gradients, G.trainable_variables)) \n",
        "  D_optimizer.apply_gradients(zip(dsc_gradients, D.trainable_variables))\n",
        "  "
      ],
      "execution_count": 0,
      "outputs": []
    },
    {
      "cell_type": "code",
      "metadata": {
        "id": "JLIxkk6ybPCN",
        "colab_type": "code",
        "colab": {}
      },
      "source": [
        "def test_step(real_images):  \n",
        "  noises = tf.random.normal([BATCH_SIZE, noise_dim])\n",
        "  \n",
        "  fake_images = G([noises, real_images[1]], training=False)\n",
        "  \n",
        "  real_output = D([real_images[0], real_images[1]], training=False)\n",
        "  fake_output = D([fake_images, real_images[1]], training=False)    \n",
        "  \n",
        "  gen_loss = G_loss(fake_output)\n",
        "  dsc_loss = D_loss(real_output, fake_output)\n",
        "  \n",
        "  print(\"Generator loss:\", gen_loss.numpy(), \"Discriminator loss:\", dsc_loss.numpy())\n",
        "  return gen_loss.numpy(), dsc_loss.numpy()  ## loss를 기록하기 위해 값을 반환"
      ],
      "execution_count": 0,
      "outputs": []
    },
    {
      "cell_type": "code",
      "metadata": {
        "id": "GvLNAfdMbQFv",
        "colab_type": "code",
        "colab": {}
      },
      "source": [
        "# 학습 함수\n",
        "\n",
        "def train(dataset, epochs):\n",
        "  gen_loss_list = []\n",
        "  dsc_loss_list = []\n",
        "  for epoch in range(epochs):\n",
        "    start = time.time()\n",
        "    \n",
        "    for i, image_batch in enumerate(dataset):\n",
        "      train_step(image_batch)\n",
        "      if i == 0:\n",
        "        g_loss, d_loss = test_step(image_batch)  ## loss가 기록될 때마다 list에 저장\n",
        "        gen_loss_list.append(g_loss)\n",
        "        dsc_loss_list.append(d_loss)\n",
        "        \n",
        "    print ('Time for epoch {} is {} sec'.format(epoch + 1, time.time()-start))   \n",
        "  \n",
        "  return gen_loss_list, dsc_loss_list"
      ],
      "execution_count": 0,
      "outputs": []
    },
    {
      "cell_type": "markdown",
      "metadata": {
        "id": "9biNQUfDfbRy",
        "colab_type": "text"
      },
      "source": [
        "## Training"
      ]
    },
    {
      "cell_type": "code",
      "metadata": {
        "id": "YUZPDZGcbQ5n",
        "colab_type": "code",
        "outputId": "4053b09f-18ad-47b2-b10c-0715f01724fe",
        "colab": {
          "base_uri": "https://localhost:8080/",
          "height": 1853
        }
      },
      "source": [
        "# 학습!!!  1에 가까워지고 있으면 잘 된것.\n",
        "%%time\n",
        "g_loss_list, d_loss_list = train(train_dataset, EPOCHS)"
      ],
      "execution_count": 0,
      "outputs": [
        {
          "output_type": "stream",
          "text": [
            "Generator loss: 1.950028 Discriminator loss: 0.38110518\n",
            "Time for epoch 1 is 8.63745665550232 sec\n",
            "Generator loss: 1.653655 Discriminator loss: 0.46460214\n",
            "Time for epoch 2 is 8.655209302902222 sec\n",
            "Generator loss: 1.8136212 Discriminator loss: 0.4029119\n",
            "Time for epoch 3 is 8.533299922943115 sec\n",
            "Generator loss: 1.7611835 Discriminator loss: 0.46854824\n",
            "Time for epoch 4 is 8.643343925476074 sec\n",
            "Generator loss: 2.2205355 Discriminator loss: 0.32930285\n",
            "Time for epoch 5 is 8.574382305145264 sec\n",
            "Generator loss: 1.892375 Discriminator loss: 0.453423\n",
            "Time for epoch 6 is 8.493070602416992 sec\n",
            "Generator loss: 2.092594 Discriminator loss: 0.4186589\n",
            "Time for epoch 7 is 8.596975326538086 sec\n",
            "Generator loss: 1.6970549 Discriminator loss: 0.55089116\n",
            "Time for epoch 8 is 8.567507266998291 sec\n",
            "Generator loss: 1.7737291 Discriminator loss: 0.5357928\n",
            "Time for epoch 9 is 8.653201341629028 sec\n",
            "Generator loss: 1.7678174 Discriminator loss: 0.59118736\n",
            "Time for epoch 10 is 8.756581783294678 sec\n",
            "Generator loss: 1.6460872 Discriminator loss: 0.55261177\n",
            "Time for epoch 11 is 8.514655828475952 sec\n",
            "Generator loss: 1.984388 Discriminator loss: 0.3889827\n",
            "Time for epoch 12 is 8.41663932800293 sec\n",
            "Generator loss: 2.100364 Discriminator loss: 0.49502152\n",
            "Time for epoch 13 is 8.550300359725952 sec\n",
            "Generator loss: 1.9609812 Discriminator loss: 0.45750293\n",
            "Time for epoch 14 is 8.541626453399658 sec\n",
            "Generator loss: 2.310097 Discriminator loss: 0.45589\n",
            "Time for epoch 15 is 8.66281795501709 sec\n",
            "Generator loss: 2.1432374 Discriminator loss: 0.4272979\n",
            "Time for epoch 16 is 8.7279052734375 sec\n",
            "Generator loss: 1.880972 Discriminator loss: 0.54082143\n",
            "Time for epoch 17 is 8.670960187911987 sec\n",
            "Generator loss: 1.8551724 Discriminator loss: 0.5218985\n",
            "Time for epoch 18 is 8.447584390640259 sec\n",
            "Generator loss: 1.4383963 Discriminator loss: 0.64473623\n",
            "Time for epoch 19 is 8.515576124191284 sec\n",
            "Generator loss: 1.5948472 Discriminator loss: 0.72797775\n",
            "Time for epoch 20 is 8.369743347167969 sec\n",
            "Generator loss: 1.3854679 Discriminator loss: 0.7619309\n",
            "Time for epoch 21 is 8.312654733657837 sec\n",
            "Generator loss: 1.7823704 Discriminator loss: 0.7555262\n",
            "Time for epoch 22 is 8.551224708557129 sec\n",
            "Generator loss: 1.4201398 Discriminator loss: 0.6462491\n",
            "Time for epoch 23 is 8.569046974182129 sec\n",
            "Generator loss: 1.5183176 Discriminator loss: 0.6020581\n",
            "Time for epoch 24 is 8.57391881942749 sec\n",
            "Generator loss: 1.775001 Discriminator loss: 0.5642698\n",
            "Time for epoch 25 is 8.62250566482544 sec\n",
            "Generator loss: 1.5147728 Discriminator loss: 0.59879863\n",
            "Time for epoch 26 is 8.81408953666687 sec\n",
            "Generator loss: 1.7376441 Discriminator loss: 0.6290343\n",
            "Time for epoch 27 is 8.837617635726929 sec\n",
            "Generator loss: 1.6587362 Discriminator loss: 0.6574252\n",
            "Time for epoch 28 is 8.570384979248047 sec\n",
            "Generator loss: 1.606355 Discriminator loss: 0.6507875\n",
            "Time for epoch 29 is 8.605597257614136 sec\n",
            "Generator loss: 1.6043944 Discriminator loss: 0.684857\n",
            "Time for epoch 30 is 8.507975816726685 sec\n",
            "Generator loss: 1.5253674 Discriminator loss: 0.7174783\n",
            "Time for epoch 31 is 8.674322843551636 sec\n",
            "Generator loss: 1.5837109 Discriminator loss: 0.6156628\n",
            "Time for epoch 32 is 8.699779510498047 sec\n",
            "Generator loss: 1.7092035 Discriminator loss: 0.7090731\n",
            "Time for epoch 33 is 8.56962513923645 sec\n",
            "Generator loss: 1.4891982 Discriminator loss: 0.7506894\n",
            "Time for epoch 34 is 8.596391916275024 sec\n",
            "Generator loss: 1.286464 Discriminator loss: 0.7794006\n",
            "Time for epoch 35 is 8.450248718261719 sec\n",
            "Generator loss: 1.3666502 Discriminator loss: 0.7622876\n",
            "Time for epoch 36 is 8.535935163497925 sec\n",
            "Generator loss: 1.3190165 Discriminator loss: 0.7384114\n",
            "Time for epoch 37 is 8.713526964187622 sec\n",
            "Generator loss: 1.3257699 Discriminator loss: 0.82340026\n",
            "Time for epoch 38 is 8.646107912063599 sec\n",
            "Generator loss: 1.3709462 Discriminator loss: 0.8415257\n",
            "Time for epoch 39 is 8.523980617523193 sec\n",
            "Generator loss: 1.2891847 Discriminator loss: 0.74588096\n",
            "Time for epoch 40 is 8.681678056716919 sec\n",
            "Generator loss: 1.3895112 Discriminator loss: 0.75926435\n",
            "Time for epoch 41 is 8.691720724105835 sec\n",
            "Generator loss: 1.3234831 Discriminator loss: 0.8111347\n",
            "Time for epoch 42 is 8.588748693466187 sec\n",
            "Generator loss: 1.160195 Discriminator loss: 0.90342057\n",
            "Time for epoch 43 is 8.608040571212769 sec\n",
            "Generator loss: 1.0512497 Discriminator loss: 0.9577304\n",
            "Time for epoch 44 is 8.585629940032959 sec\n",
            "Generator loss: 1.0291014 Discriminator loss: 0.9768199\n",
            "Time for epoch 45 is 8.45574402809143 sec\n",
            "Generator loss: 1.0047817 Discriminator loss: 0.90938497\n",
            "Time for epoch 46 is 8.588265180587769 sec\n",
            "Generator loss: 1.1911783 Discriminator loss: 0.8962661\n",
            "Time for epoch 47 is 8.686128854751587 sec\n",
            "Generator loss: 1.0971164 Discriminator loss: 0.9617841\n",
            "Time for epoch 48 is 8.818053245544434 sec\n",
            "Generator loss: 0.916711 Discriminator loss: 0.9455613\n",
            "Time for epoch 49 is 8.914475202560425 sec\n",
            "Generator loss: 1.1771473 Discriminator loss: 0.8936251\n",
            "Time for epoch 50 is 8.974804162979126 sec\n",
            "CPU times: user 11min 37s, sys: 57.8 s, total: 12min 35s\n",
            "Wall time: 7min 10s\n"
          ],
          "name": "stdout"
        }
      ]
    },
    {
      "cell_type": "markdown",
      "metadata": {
        "id": "y5SN8RnniXCq",
        "colab_type": "text"
      },
      "source": [
        "학습 과정에서 생성 네트웍(G)와 판별 네트웍(D)의 loss 값의 변화를 가시화하면 다음과 같다."
      ]
    },
    {
      "cell_type": "markdown",
      "metadata": {
        "id": "V6hoWyfzindN",
        "colab_type": "text"
      },
      "source": [
        "### Generator의 loss 값의 변화"
      ]
    },
    {
      "cell_type": "code",
      "metadata": {
        "id": "yTl88ujDiCbI",
        "colab_type": "code",
        "outputId": "dc1459f1-45e0-45f5-eb1b-053eedb47352",
        "colab": {
          "base_uri": "https://localhost:8080/",
          "height": 305
        }
      },
      "source": [
        "plt.plot(g_loss_list, 'r')\n",
        "plt.ylabel('loss', fontsize=14)\n",
        "plt.xlabel('epoch', fontsize=14)\n",
        "plt.legend([\"Loss of G\"], fontsize=16)"
      ],
      "execution_count": 0,
      "outputs": [
        {
          "output_type": "execute_result",
          "data": {
            "text/plain": [
              "<matplotlib.legend.Legend at 0x7f8a78044320>"
            ]
          },
          "metadata": {
            "tags": []
          },
          "execution_count": 41
        },
        {
          "output_type": "display_data",
          "data": {
            "image/png": "[encoded data removed]",
            "text/plain": [
              "<Figure size 432x288 with 1 Axes>"
            ]
          },
          "metadata": {
            "tags": []
          }
        }
      ]
    },
    {
      "cell_type": "markdown",
      "metadata": {
        "id": "mnhf9kSei7zX",
        "colab_type": "text"
      },
      "source": [
        "전체적으로 G의 loss는 학습이 진행됨에 따라 감소 (1에 가까워짐) 하고 있는 것을 확인할 수 있다.\n",
        "\n"
      ]
    },
    {
      "cell_type": "markdown",
      "metadata": {
        "id": "rwu9ekW8jUrj",
        "colab_type": "text"
      },
      "source": [
        "### Discriminator의 loss 값의 변화"
      ]
    },
    {
      "cell_type": "code",
      "metadata": {
        "id": "fJpcM52HjFMO",
        "colab_type": "code",
        "outputId": "0dbf9764-5e1e-4b0a-9ebc-a650ff97759f",
        "colab": {
          "base_uri": "https://localhost:8080/",
          "height": 305
        }
      },
      "source": [
        "plt.plot(d_loss_list, 'g')\n",
        "plt.ylabel('loss', fontsize=14)\n",
        "plt.xlabel('epoch', fontsize=14)\n",
        "plt.legend([\"Loss of D\"], fontsize=16)"
      ],
      "execution_count": 0,
      "outputs": [
        {
          "output_type": "execute_result",
          "data": {
            "text/plain": [
              "<matplotlib.legend.Legend at 0x7f8a77f47e48>"
            ]
          },
          "metadata": {
            "tags": []
          },
          "execution_count": 42
        },
        {
          "output_type": "display_data",
          "data": {
            "image/png": "[encoded data removed]",
            "text/plain": [
              "<Figure size 432x288 with 1 Axes>"
            ]
          },
          "metadata": {
            "tags": []
          }
        }
      ]
    },
    {
      "cell_type": "markdown",
      "metadata": {
        "id": "BXHq3-4gjTPf",
        "colab_type": "text"
      },
      "source": [
        "전체적으로 D의 loss는 학습이 진행됨에 따라 증가 (1에 가까워짐) 하는 것을 확인할 수 있다."
      ]
    },
    {
      "cell_type": "code",
      "metadata": {
        "id": "bF3GvGecjtRw",
        "colab_type": "code",
        "outputId": "cf2ab107-ec2b-4ba1-c986-9403be6a88d5",
        "colab": {
          "base_uri": "https://localhost:8080/",
          "height": 774
        }
      },
      "source": [
        "# Generator가 만들어 낸 노이즈 이미지 테스트 해보기\n",
        "\n",
        "import matplotlib.pyplot as plt\n",
        "\n",
        "noises = tf.random.normal([50, 100])  ## 50장의 노이즈 이미지 생성\n",
        "generated_image = G([noises, train_label_onehots[:50]], training=False)\n",
        "print(train_label_onehots[:10])\n",
        "fig, axes = plt.subplots(nrows=5, ncols=2, figsize=(10,10))\n",
        "\n",
        "for ax in axes.flat:\n",
        "  ax.axis('off')\n",
        "\n",
        "axes[0,0].imshow(generated_image[0], cmap='gray')\n",
        "axes[0,1].imshow(generated_image[1], cmap='gray')\n",
        "axes[1,0].imshow(generated_image[2], cmap='gray')\n",
        "axes[1,1].imshow(generated_image[3], cmap='gray')\n",
        "axes[2,0].imshow(generated_image[4], cmap='gray')\n",
        "axes[2,1].imshow(generated_image[5], cmap='gray')\n",
        "axes[3,0].imshow(generated_image[6], cmap='gray')\n",
        "axes[3,1].imshow(generated_image[7], cmap='gray')\n",
        "axes[4,0].imshow(generated_image[8], cmap='gray')\n",
        "axes[4,1].imshow(generated_image[9], cmap='gray')\n",
        "\n",
        "plt.show()"
      ],
      "execution_count": 0,
      "outputs": [
        {
          "output_type": "stream",
          "text": [
            "[[0. 0. 0. 0. 0. 1. 0. 0. 0. 0.]\n",
            " [1. 0. 0. 0. 0. 0. 0. 0. 0. 0.]\n",
            " [0. 0. 0. 0. 1. 0. 0. 0. 0. 0.]\n",
            " [0. 1. 0. 0. 0. 0. 0. 0. 0. 0.]\n",
            " [0. 0. 0. 0. 0. 0. 0. 0. 0. 1.]\n",
            " [0. 0. 1. 0. 0. 0. 0. 0. 0. 0.]\n",
            " [0. 1. 0. 0. 0. 0. 0. 0. 0. 0.]\n",
            " [0. 0. 0. 1. 0. 0. 0. 0. 0. 0.]\n",
            " [0. 1. 0. 0. 0. 0. 0. 0. 0. 0.]\n",
            " [0. 0. 0. 0. 1. 0. 0. 0. 0. 0.]]\n"
          ],
          "name": "stdout"
        },
        {
          "output_type": "display_data",
          "data": {
            "image/png": "[encoded data removed]",
            "text/plain": [
              "<Figure size 720x720 with 10 Axes>"
            ]
          },
          "metadata": {
            "tags": []
          }
        }
      ]
    },
    {
      "cell_type": "markdown",
      "metadata": {
        "id": "CwsvL-Hklad8",
        "colab_type": "text"
      },
      "source": [
        "Generator가 만들어 낸 노이즈 이미지를 condition과 비교한 결과, 0, 1과 같이 비교적 단순한 모양의 숫자에 대해서는 잘 생성하였으나, 나머지 숫자에 대해서는 뚜렷한 이미지를 생성하지 못하는 것을 볼 수 있다. 보다 선명한 이미지를 생성하기 위해서는, epoch를 늘리는 방법이 가장 효과적이다. GAN은 layer를 깊게 쌓게 되면 학습이 매우 더디게 일어나 비효율적이기 때문이다."
      ]
    },
    {
      "cell_type": "markdown",
      "metadata": {
        "id": "N-iCUdaBn5tA",
        "colab_type": "text"
      },
      "source": [
        "## epoch를 50에서 500으로 증가시킨 후 결과 확인"
      ]
    },
    {
      "cell_type": "code",
      "metadata": {
        "id": "nmnhf_AZodJs",
        "colab_type": "code",
        "colab": {}
      },
      "source": [
        "# GAN 트레이닝에 쓰일 cross-entropy fuctor 정의\n",
        "\n",
        "cross_entropy = tf.keras.losses.BinaryCrossentropy(from_logits=True)"
      ],
      "execution_count": 0,
      "outputs": []
    },
    {
      "cell_type": "code",
      "metadata": {
        "id": "HFhWkU-5o0Qv",
        "colab_type": "code",
        "colab": {}
      },
      "source": [
        "# Discriminator loss 정의\n",
        "\n",
        "def D_loss(real_output, fake_output):\n",
        "  real_loss = cross_entropy(tf.ones_like(real_output), real_output)\n",
        "  fake_loss = cross_entropy(tf.zeros_like(fake_output), fake_output)\n",
        "  total_loss = real_loss + fake_loss\n",
        "  return total_loss"
      ],
      "execution_count": 0,
      "outputs": []
    },
    {
      "cell_type": "code",
      "metadata": {
        "id": "ElV0W40ko1Ay",
        "colab_type": "code",
        "colab": {}
      },
      "source": [
        "# Generator loss 정의\n",
        "\n",
        "def G_loss(fake_output):\n",
        "  return cross_entropy(tf.ones_like(fake_output), fake_output)"
      ],
      "execution_count": 0,
      "outputs": []
    },
    {
      "cell_type": "code",
      "metadata": {
        "id": "tBhXbN41o51O",
        "colab_type": "code",
        "colab": {}
      },
      "source": [
        "# GAN 트레이닝에 쓰일 optimizer 정의\n",
        "\n",
        "G_optimizer = tf.keras.optimizers.Adam(1e-4)\n",
        "D_optimizer = tf.keras.optimizers.Adam(1e-4)"
      ],
      "execution_count": 0,
      "outputs": []
    },
    {
      "cell_type": "code",
      "metadata": {
        "id": "-QDd5E9So6L-",
        "colab_type": "code",
        "colab": {}
      },
      "source": [
        "# 학습 루프 설정\n",
        "\n",
        "EPOCHS = 500\n",
        "noise_dim = 100\n",
        "\n",
        "seed = tf.random.normal([BATCH_SIZE, noise_dim])"
      ],
      "execution_count": 0,
      "outputs": []
    },
    {
      "cell_type": "code",
      "metadata": {
        "id": "8vimHdDRpRUU",
        "colab_type": "code",
        "colab": {}
      },
      "source": [
        "# 배치단위 학습 함수 설정 (* AutoGraph 기능 쓰기!)\n",
        "\n",
        "@tf.function  ## GPU 활성화 (학습이 빨라짐 (AutoGraph 기능))\n",
        "def train_step(real_images):  \n",
        "  \n",
        "  noises = tf.random.normal([BATCH_SIZE, noise_dim])\n",
        "  \n",
        "  with tf.GradientTape() as gen_tape, tf.GradientTape() as dsc_tape:  ## gradient를 만들고 다음 gradient에 back propagation 시키겠다.\n",
        "    fake_images = G([noises, real_images[1]], training=True)  ## 랜덤 노이즈 생성\n",
        "    \n",
        "    real_output = D([real_images[0], real_images[1]], training=True)\n",
        "    fake_output = D([fake_images, real_images[1]], training=True)\n",
        "    \n",
        "    gen_loss = G_loss(fake_output)  ## 처음엔 minimize하도록 수식을 측정\n",
        "    dsc_loss = D_loss(real_output, fake_output)\n",
        "    \n",
        "  gen_gradients = gen_tape.gradient(gen_loss, G.trainable_variables)  ## training 데이터에 대해 parameter update 시작\n",
        "  dsc_gradients = dsc_tape.gradient(dsc_loss, D.trainable_variables)\n",
        "  \n",
        "  G_optimizer.apply_gradients(zip(gen_gradients, G.trainable_variables)) \n",
        "  D_optimizer.apply_gradients(zip(dsc_gradients, D.trainable_variables))"
      ],
      "execution_count": 0,
      "outputs": []
    },
    {
      "cell_type": "code",
      "metadata": {
        "id": "NdQqZNimpRxb",
        "colab_type": "code",
        "colab": {}
      },
      "source": [
        "def test_step(real_images):  \n",
        "  noises = tf.random.normal([BATCH_SIZE, noise_dim])\n",
        "  \n",
        "  fake_images = G([noises, real_images[1]], training=False)\n",
        "  \n",
        "  real_output = D([real_images[0], real_images[1]], training=False)\n",
        "  fake_output = D([fake_images, real_images[1]], training=False)    \n",
        "  \n",
        "  gen_loss = G_loss(fake_output)\n",
        "  dsc_loss = D_loss(real_output, fake_output)\n",
        "  \n",
        "  print(\"Generator loss:\", gen_loss.numpy(), \"Discriminator loss:\", dsc_loss.numpy())\n",
        "  return gen_loss.numpy(), dsc_loss.numpy()  ## loss를 기록하기 위해 값을 반환"
      ],
      "execution_count": 0,
      "outputs": []
    },
    {
      "cell_type": "code",
      "metadata": {
        "id": "11z6FxIepUjU",
        "colab_type": "code",
        "colab": {}
      },
      "source": [
        "# 학습 함수\n",
        "\n",
        "def train(dataset, epochs):\n",
        "  gen_loss_list = []\n",
        "  dsc_loss_list = []\n",
        "  for epoch in range(epochs):\n",
        "    start = time.time()\n",
        "    \n",
        "    for i, image_batch in enumerate(dataset):\n",
        "      train_step(image_batch)\n",
        "      if i == 0:\n",
        "        g_loss, d_loss = test_step(image_batch)  ## loss가 기록될 때마다 list에 저장\n",
        "        gen_loss_list.append(g_loss)\n",
        "        dsc_loss_list.append(d_loss)\n",
        "        \n",
        "    print ('Time for epoch {} is {} sec'.format(epoch + 1, time.time()-start))   \n",
        "  \n",
        "  return gen_loss_list, dsc_loss_list"
      ],
      "execution_count": 0,
      "outputs": []
    },
    {
      "cell_type": "code",
      "metadata": {
        "id": "au-EOFMupXLX",
        "colab_type": "code",
        "outputId": "6346d541-2418-459b-8005-e23423f1bbec",
        "colab": {
          "base_uri": "https://localhost:8080/",
          "height": 18053
        }
      },
      "source": [
        "# 학습!!!  1에 가까워지고 있으면 잘 된것.\n",
        "%%time\n",
        "g_loss_list, d_loss_list = train(train_dataset, EPOCHS)"
      ],
      "execution_count": 0,
      "outputs": [
        {
          "output_type": "stream",
          "text": [
            "Generator loss: 1.5745245 Discriminator loss: 0.94455016\n",
            "Time for epoch 1 is 11.12186050415039 sec\n",
            "Generator loss: 1.0391062 Discriminator loss: 0.995347\n",
            "Time for epoch 2 is 9.715943336486816 sec\n",
            "Generator loss: 1.1384753 Discriminator loss: 0.89881444\n",
            "Time for epoch 3 is 10.148603677749634 sec\n",
            "Generator loss: 1.0808828 Discriminator loss: 0.9801645\n",
            "Time for epoch 4 is 9.812824249267578 sec\n",
            "Generator loss: 1.1078855 Discriminator loss: 1.0062022\n",
            "Time for epoch 5 is 9.318565368652344 sec\n",
            "Generator loss: 0.9604794 Discriminator loss: 0.98667014\n",
            "Time for epoch 6 is 9.55454707145691 sec\n",
            "Generator loss: 1.1027676 Discriminator loss: 0.91068184\n",
            "Time for epoch 7 is 9.714395999908447 sec\n",
            "Generator loss: 1.1818328 Discriminator loss: 0.9985503\n",
            "Time for epoch 8 is 9.634655952453613 sec\n",
            "Generator loss: 0.89276505 Discriminator loss: 1.0356293\n",
            "Time for epoch 9 is 9.546148777008057 sec\n",
            "Generator loss: 1.0014627 Discriminator loss: 0.97193015\n",
            "Time for epoch 10 is 9.594082355499268 sec\n",
            "Generator loss: 1.0494654 Discriminator loss: 1.0174448\n",
            "Time for epoch 11 is 9.318087339401245 sec\n",
            "Generator loss: 1.0804305 Discriminator loss: 0.90215635\n",
            "Time for epoch 12 is 9.589666366577148 sec\n",
            "Generator loss: 1.173765 Discriminator loss: 0.92138183\n",
            "Time for epoch 13 is 9.509071588516235 sec\n",
            "Generator loss: 1.0828123 Discriminator loss: 0.92422855\n",
            "Time for epoch 14 is 10.180420398712158 sec\n",
            "Generator loss: 0.94506335 Discriminator loss: 1.0126995\n",
            "Time for epoch 15 is 9.720739364624023 sec\n",
            "Generator loss: 1.133847 Discriminator loss: 0.9486029\n",
            "Time for epoch 16 is 10.172759532928467 sec\n",
            "Generator loss: 0.96521926 Discriminator loss: 0.9527433\n",
            "Time for epoch 17 is 10.436904668807983 sec\n",
            "Generator loss: 1.0683138 Discriminator loss: 0.93565977\n",
            "Time for epoch 18 is 10.518184423446655 sec\n",
            "Generator loss: 0.94913083 Discriminator loss: 0.91096425\n",
            "Time for epoch 19 is 9.517502784729004 sec\n",
            "Generator loss: 1.0110008 Discriminator loss: 0.94383717\n",
            "Time for epoch 20 is 9.91775393486023 sec\n",
            "Generator loss: 1.0570108 Discriminator loss: 0.9373307\n",
            "Time for epoch 21 is 10.291072130203247 sec\n",
            "Generator loss: 1.1850898 Discriminator loss: 0.873317\n",
            "Time for epoch 22 is 10.396993398666382 sec\n",
            "Generator loss: 1.0634121 Discriminator loss: 0.9347829\n",
            "Time for epoch 23 is 10.471580743789673 sec\n",
            "Generator loss: 1.1765856 Discriminator loss: 0.86883676\n",
            "Time for epoch 24 is 10.128237247467041 sec\n",
            "Generator loss: 1.0862476 Discriminator loss: 0.89490104\n",
            "Time for epoch 25 is 9.620811462402344 sec\n",
            "Generator loss: 1.1300445 Discriminator loss: 0.9515654\n",
            "Time for epoch 26 is 10.365869522094727 sec\n",
            "Generator loss: 1.1023251 Discriminator loss: 0.9378536\n",
            "Time for epoch 27 is 10.0350821018219 sec\n",
            "Generator loss: 1.2243531 Discriminator loss: 0.91160166\n",
            "Time for epoch 28 is 9.457629680633545 sec\n",
            "Generator loss: 1.089302 Discriminator loss: 0.8971394\n",
            "Time for epoch 29 is 10.157461881637573 sec\n",
            "Generator loss: 1.0401601 Discriminator loss: 0.9124486\n",
            "Time for epoch 30 is 10.393211126327515 sec\n",
            "Generator loss: 0.9976521 Discriminator loss: 0.9006181\n",
            "Time for epoch 31 is 10.388258457183838 sec\n",
            "Generator loss: 1.2930278 Discriminator loss: 0.82773274\n",
            "Time for epoch 32 is 10.218576192855835 sec\n",
            "Generator loss: 1.113674 Discriminator loss: 0.93088126\n",
            "Time for epoch 33 is 10.084994554519653 sec\n",
            "Generator loss: 1.281017 Discriminator loss: 0.8679492\n",
            "Time for epoch 34 is 9.497050285339355 sec\n",
            "Generator loss: 1.2719282 Discriminator loss: 0.84432346\n",
            "Time for epoch 35 is 10.082270383834839 sec\n",
            "Generator loss: 1.1063992 Discriminator loss: 0.88616335\n",
            "Time for epoch 36 is 10.079349517822266 sec\n",
            "Generator loss: 1.1586269 Discriminator loss: 0.90183616\n",
            "Time for epoch 37 is 10.009214401245117 sec\n",
            "Generator loss: 1.1335052 Discriminator loss: 0.8771677\n",
            "Time for epoch 38 is 10.319812059402466 sec\n",
            "Generator loss: 1.0807326 Discriminator loss: 0.95737314\n",
            "Time for epoch 39 is 10.518403768539429 sec\n",
            "Generator loss: 1.0682226 Discriminator loss: 0.94513583\n",
            "Time for epoch 40 is 9.34909176826477 sec\n",
            "Generator loss: 1.1655984 Discriminator loss: 0.90967464\n",
            "Time for epoch 41 is 9.35507845878601 sec\n",
            "Generator loss: 1.1849627 Discriminator loss: 0.8818066\n",
            "Time for epoch 42 is 9.987634181976318 sec\n",
            "Generator loss: 1.0062993 Discriminator loss: 0.92124814\n",
            "Time for epoch 43 is 9.84119963645935 sec\n",
            "Generator loss: 0.97192055 Discriminator loss: 0.91882634\n",
            "Time for epoch 44 is 10.29135799407959 sec\n",
            "Generator loss: 1.141566 Discriminator loss: 0.9032499\n",
            "Time for epoch 45 is 10.205758810043335 sec\n",
            "Generator loss: 1.1058675 Discriminator loss: 0.8963755\n",
            "Time for epoch 46 is 9.620926141738892 sec\n",
            "Generator loss: 0.99949265 Discriminator loss: 0.9076278\n",
            "Time for epoch 47 is 10.06898045539856 sec\n",
            "Generator loss: 1.0138146 Discriminator loss: 0.8755132\n",
            "Time for epoch 48 is 9.8793044090271 sec\n",
            "Generator loss: 1.0839936 Discriminator loss: 0.86319447\n",
            "Time for epoch 49 is 9.983997821807861 sec\n",
            "Generator loss: 1.1040684 Discriminator loss: 0.8851766\n",
            "Time for epoch 50 is 9.731418132781982 sec\n",
            "Generator loss: 1.0908569 Discriminator loss: 0.8838538\n",
            "Time for epoch 51 is 9.587629318237305 sec\n",
            "Generator loss: 1.065185 Discriminator loss: 0.87668085\n",
            "Time for epoch 52 is 9.768031358718872 sec\n",
            "Generator loss: 1.0728391 Discriminator loss: 0.866263\n",
            "Time for epoch 53 is 9.325111865997314 sec\n",
            "Generator loss: 1.2398562 Discriminator loss: 0.8575142\n",
            "Time for epoch 54 is 9.530400037765503 sec\n",
            "Generator loss: 1.1821219 Discriminator loss: 0.8273159\n",
            "Time for epoch 55 is 9.588788986206055 sec\n",
            "Generator loss: 1.1087277 Discriminator loss: 0.831897\n",
            "Time for epoch 56 is 9.155795097351074 sec\n",
            "Generator loss: 1.1791224 Discriminator loss: 0.8830055\n",
            "Time for epoch 57 is 9.6053946018219 sec\n",
            "Generator loss: 1.1333619 Discriminator loss: 0.8708352\n",
            "Time for epoch 58 is 9.987752676010132 sec\n",
            "Generator loss: 0.9800131 Discriminator loss: 0.87235045\n",
            "Time for epoch 59 is 10.33157992362976 sec\n",
            "Generator loss: 1.0650702 Discriminator loss: 0.87090015\n",
            "Time for epoch 60 is 10.144070625305176 sec\n",
            "Generator loss: 1.1328152 Discriminator loss: 0.90684843\n",
            "Time for epoch 61 is 10.141817331314087 sec\n",
            "Generator loss: 1.2040869 Discriminator loss: 0.86805975\n",
            "Time for epoch 62 is 10.374860525131226 sec\n",
            "Generator loss: 1.2320638 Discriminator loss: 0.8900143\n",
            "Time for epoch 63 is 10.0119788646698 sec\n",
            "Generator loss: 1.2341264 Discriminator loss: 0.84854954\n",
            "Time for epoch 64 is 10.270351648330688 sec\n",
            "Generator loss: 1.1202404 Discriminator loss: 0.8919167\n",
            "Time for epoch 65 is 10.086126327514648 sec\n",
            "Generator loss: 1.0461994 Discriminator loss: 0.8736335\n",
            "Time for epoch 66 is 10.046988487243652 sec\n",
            "Generator loss: 1.2261468 Discriminator loss: 0.9158063\n",
            "Time for epoch 67 is 9.873621225357056 sec\n",
            "Generator loss: 1.0636531 Discriminator loss: 0.8577851\n",
            "Time for epoch 68 is 10.059697389602661 sec\n",
            "Generator loss: 1.0188558 Discriminator loss: 0.86364347\n",
            "Time for epoch 69 is 10.148457050323486 sec\n",
            "Generator loss: 1.1062057 Discriminator loss: 0.9184153\n",
            "Time for epoch 70 is 10.083211898803711 sec\n",
            "Generator loss: 1.202152 Discriminator loss: 0.8635232\n",
            "Time for epoch 71 is 9.678588628768921 sec\n",
            "Generator loss: 1.2499312 Discriminator loss: 0.90563834\n",
            "Time for epoch 72 is 9.67091417312622 sec\n",
            "Generator loss: 1.0523266 Discriminator loss: 0.88570935\n",
            "Time for epoch 73 is 9.628797769546509 sec\n",
            "Generator loss: 1.1386113 Discriminator loss: 0.8508079\n",
            "Time for epoch 74 is 9.520101070404053 sec\n",
            "Generator loss: 1.0272145 Discriminator loss: 0.8881258\n",
            "Time for epoch 75 is 9.811287641525269 sec\n",
            "Generator loss: 1.0480303 Discriminator loss: 0.8989191\n",
            "Time for epoch 76 is 9.88058853149414 sec\n",
            "Generator loss: 1.0733151 Discriminator loss: 0.9362985\n",
            "Time for epoch 77 is 10.12691617012024 sec\n",
            "Generator loss: 1.094012 Discriminator loss: 0.88510096\n",
            "Time for epoch 78 is 10.055379152297974 sec\n",
            "Generator loss: 1.0927155 Discriminator loss: 0.9021106\n",
            "Time for epoch 79 is 9.917102098464966 sec\n",
            "Generator loss: 1.0308619 Discriminator loss: 0.89610475\n",
            "Time for epoch 80 is 9.444170236587524 sec\n",
            "Generator loss: 1.1821904 Discriminator loss: 0.915503\n",
            "Time for epoch 81 is 9.953418970108032 sec\n",
            "Generator loss: 1.1025609 Discriminator loss: 0.8800181\n",
            "Time for epoch 82 is 9.572591304779053 sec\n",
            "Generator loss: 1.100596 Discriminator loss: 0.9023838\n",
            "Time for epoch 83 is 9.734475374221802 sec\n",
            "Generator loss: 0.98500216 Discriminator loss: 0.9191824\n",
            "Time for epoch 84 is 10.07044506072998 sec\n",
            "Generator loss: 1.1128536 Discriminator loss: 0.87710416\n",
            "Time for epoch 85 is 9.574784278869629 sec\n",
            "Generator loss: 1.123797 Discriminator loss: 0.9409818\n",
            "Time for epoch 86 is 9.767756938934326 sec\n",
            "Generator loss: 0.9648644 Discriminator loss: 0.92168\n",
            "Time for epoch 87 is 10.368363857269287 sec\n",
            "Generator loss: 1.0383567 Discriminator loss: 0.94966835\n",
            "Time for epoch 88 is 9.945692777633667 sec\n",
            "Generator loss: 1.1048815 Discriminator loss: 0.9093741\n",
            "Time for epoch 89 is 9.954287052154541 sec\n",
            "Generator loss: 1.1355754 Discriminator loss: 0.91266215\n",
            "Time for epoch 90 is 9.987698078155518 sec\n",
            "Generator loss: 1.0706832 Discriminator loss: 0.9611918\n",
            "Time for epoch 91 is 9.454763650894165 sec\n",
            "Generator loss: 0.89121956 Discriminator loss: 0.94073087\n",
            "Time for epoch 92 is 9.21984076499939 sec\n",
            "Generator loss: 1.0294176 Discriminator loss: 0.9298361\n",
            "Time for epoch 93 is 9.579616785049438 sec\n",
            "Generator loss: 1.0792687 Discriminator loss: 0.8648852\n",
            "Time for epoch 94 is 9.718062400817871 sec\n",
            "Generator loss: 1.1054951 Discriminator loss: 0.9276793\n",
            "Time for epoch 95 is 9.696593046188354 sec\n",
            "Generator loss: 0.98286325 Discriminator loss: 0.9272087\n",
            "Time for epoch 96 is 9.816571712493896 sec\n",
            "Generator loss: 1.031605 Discriminator loss: 0.89836246\n",
            "Time for epoch 97 is 10.165407180786133 sec\n",
            "Generator loss: 1.0292727 Discriminator loss: 0.91793585\n",
            "Time for epoch 98 is 10.115009307861328 sec\n",
            "Generator loss: 0.939552 Discriminator loss: 0.9211347\n",
            "Time for epoch 99 is 9.692596912384033 sec\n",
            "Generator loss: 1.0553833 Discriminator loss: 0.95343375\n",
            "Time for epoch 100 is 9.862296104431152 sec\n",
            "Generator loss: 0.8407638 Discriminator loss: 0.99275553\n",
            "Time for epoch 101 is 9.817720890045166 sec\n",
            "Generator loss: 1.150035 Discriminator loss: 0.9238095\n",
            "Time for epoch 102 is 9.706143617630005 sec\n",
            "Generator loss: 1.038912 Discriminator loss: 0.9366883\n",
            "Time for epoch 103 is 9.931755065917969 sec\n",
            "Generator loss: 1.0588778 Discriminator loss: 0.95642686\n",
            "Time for epoch 104 is 9.856929302215576 sec\n",
            "Generator loss: 0.9991645 Discriminator loss: 0.9221531\n",
            "Time for epoch 105 is 9.746318578720093 sec\n",
            "Generator loss: 1.064996 Discriminator loss: 0.8830297\n",
            "Time for epoch 106 is 9.697078943252563 sec\n",
            "Generator loss: 1.0774475 Discriminator loss: 0.9449819\n",
            "Time for epoch 107 is 10.037102460861206 sec\n",
            "Generator loss: 1.0153072 Discriminator loss: 0.9448092\n",
            "Time for epoch 108 is 10.082949161529541 sec\n",
            "Generator loss: 0.94599265 Discriminator loss: 0.988943\n",
            "Time for epoch 109 is 9.930819988250732 sec\n",
            "Generator loss: 0.9039127 Discriminator loss: 0.97527933\n",
            "Time for epoch 110 is 9.81297779083252 sec\n",
            "Generator loss: 1.0947429 Discriminator loss: 0.9464233\n",
            "Time for epoch 111 is 9.754791498184204 sec\n",
            "Generator loss: 0.9491689 Discriminator loss: 1.0088093\n",
            "Time for epoch 112 is 9.8081636428833 sec\n",
            "Generator loss: 1.0213472 Discriminator loss: 0.98985076\n",
            "Time for epoch 113 is 9.533166885375977 sec\n",
            "Generator loss: 1.0771879 Discriminator loss: 0.9589702\n",
            "Time for epoch 114 is 9.772226572036743 sec\n",
            "Generator loss: 0.96969956 Discriminator loss: 0.97244453\n",
            "Time for epoch 115 is 10.054867267608643 sec\n",
            "Generator loss: 1.0021641 Discriminator loss: 0.94923705\n",
            "Time for epoch 116 is 10.08115530014038 sec\n",
            "Generator loss: 0.99869555 Discriminator loss: 0.97840667\n",
            "Time for epoch 117 is 9.822658061981201 sec\n",
            "Generator loss: 0.9182011 Discriminator loss: 0.9605957\n",
            "Time for epoch 118 is 9.700610160827637 sec\n",
            "Generator loss: 0.94524115 Discriminator loss: 0.9745052\n",
            "Time for epoch 119 is 9.031778573989868 sec\n",
            "Generator loss: 0.8811926 Discriminator loss: 1.0125017\n",
            "Time for epoch 120 is 9.18127155303955 sec\n",
            "Generator loss: 1.0375814 Discriminator loss: 0.9788405\n",
            "Time for epoch 121 is 9.22275972366333 sec\n",
            "Generator loss: 0.84947175 Discriminator loss: 1.0177646\n",
            "Time for epoch 122 is 9.086833953857422 sec\n",
            "Generator loss: 1.0296402 Discriminator loss: 0.9962194\n",
            "Time for epoch 123 is 9.316097021102905 sec\n",
            "Generator loss: 1.0888433 Discriminator loss: 0.9864665\n",
            "Time for epoch 124 is 9.39358401298523 sec\n",
            "Generator loss: 1.0648693 Discriminator loss: 0.9748856\n",
            "Time for epoch 125 is 9.203307867050171 sec\n",
            "Generator loss: 1.0292408 Discriminator loss: 0.9640894\n",
            "Time for epoch 126 is 9.085520029067993 sec\n",
            "Generator loss: 1.063681 Discriminator loss: 0.9755452\n",
            "Time for epoch 127 is 9.171928644180298 sec\n",
            "Generator loss: 0.99796486 Discriminator loss: 0.975274\n",
            "Time for epoch 128 is 8.950229167938232 sec\n",
            "Generator loss: 0.9524026 Discriminator loss: 0.9771966\n",
            "Time for epoch 129 is 8.820098161697388 sec\n",
            "Generator loss: 1.0726583 Discriminator loss: 0.9697683\n",
            "Time for epoch 130 is 8.951510667800903 sec\n",
            "Generator loss: 0.92068094 Discriminator loss: 1.009288\n",
            "Time for epoch 131 is 9.079558610916138 sec\n",
            "Generator loss: 0.85732627 Discriminator loss: 1.0201352\n",
            "Time for epoch 132 is 9.12734341621399 sec\n",
            "Generator loss: 0.9430825 Discriminator loss: 0.9812345\n",
            "Time for epoch 133 is 8.892472505569458 sec\n",
            "Generator loss: 1.1416568 Discriminator loss: 0.9806878\n",
            "Time for epoch 134 is 8.913569450378418 sec\n",
            "Generator loss: 0.9953264 Discriminator loss: 1.0208315\n",
            "Time for epoch 135 is 8.857582569122314 sec\n",
            "Generator loss: 0.9135231 Discriminator loss: 0.9915942\n",
            "Time for epoch 136 is 8.85478162765503 sec\n",
            "Generator loss: 1.1538665 Discriminator loss: 1.0025839\n",
            "Time for epoch 137 is 8.830834150314331 sec\n",
            "Generator loss: 0.90424204 Discriminator loss: 0.9718718\n",
            "Time for epoch 138 is 8.725189208984375 sec\n",
            "Generator loss: 1.0416511 Discriminator loss: 1.0144432\n",
            "Time for epoch 139 is 8.34002423286438 sec\n",
            "Generator loss: 1.0376018 Discriminator loss: 0.97515225\n",
            "Time for epoch 140 is 9.343241930007935 sec\n",
            "Generator loss: 1.0640011 Discriminator loss: 1.0051754\n",
            "Time for epoch 141 is 8.97752594947815 sec\n",
            "Generator loss: 0.9689456 Discriminator loss: 0.96682036\n",
            "Time for epoch 142 is 9.353781938552856 sec\n",
            "Generator loss: 1.0650926 Discriminator loss: 0.9388933\n",
            "Time for epoch 143 is 9.92116641998291 sec\n",
            "Generator loss: 0.8731896 Discriminator loss: 0.9913206\n",
            "Time for epoch 144 is 9.12611985206604 sec\n",
            "Generator loss: 0.8795887 Discriminator loss: 0.9912871\n",
            "Time for epoch 145 is 9.048258066177368 sec\n",
            "Generator loss: 0.9997078 Discriminator loss: 0.9640505\n",
            "Time for epoch 146 is 9.248456239700317 sec\n",
            "Generator loss: 1.0496414 Discriminator loss: 0.99339604\n",
            "Time for epoch 147 is 9.613885402679443 sec\n",
            "Generator loss: 0.9941897 Discriminator loss: 0.99748653\n",
            "Time for epoch 148 is 9.433708906173706 sec\n",
            "Generator loss: 0.9403364 Discriminator loss: 0.9783284\n",
            "Time for epoch 149 is 9.4664626121521 sec\n",
            "Generator loss: 1.1068696 Discriminator loss: 0.98396766\n",
            "Time for epoch 150 is 9.254518032073975 sec\n",
            "Generator loss: 0.9778009 Discriminator loss: 0.9327222\n",
            "Time for epoch 151 is 9.22196888923645 sec\n",
            "Generator loss: 1.0716151 Discriminator loss: 0.99387187\n",
            "Time for epoch 152 is 9.525824308395386 sec\n",
            "Generator loss: 0.9638193 Discriminator loss: 1.0016984\n",
            "Time for epoch 153 is 9.299321413040161 sec\n",
            "Generator loss: 0.9370584 Discriminator loss: 0.98856723\n",
            "Time for epoch 154 is 9.208701133728027 sec\n",
            "Generator loss: 0.97238654 Discriminator loss: 1.0025463\n",
            "Time for epoch 155 is 9.314663171768188 sec\n",
            "Generator loss: 1.0597893 Discriminator loss: 0.9696015\n",
            "Time for epoch 156 is 9.574864149093628 sec\n",
            "Generator loss: 0.98382413 Discriminator loss: 0.96739143\n",
            "Time for epoch 157 is 9.359567165374756 sec\n",
            "Generator loss: 0.9310289 Discriminator loss: 0.9854089\n",
            "Time for epoch 158 is 9.567611932754517 sec\n",
            "Generator loss: 0.862764 Discriminator loss: 1.0353881\n",
            "Time for epoch 159 is 9.755949258804321 sec\n",
            "Generator loss: 0.9986522 Discriminator loss: 1.0536625\n",
            "Time for epoch 160 is 9.904483079910278 sec\n",
            "Generator loss: 0.9897219 Discriminator loss: 0.97640574\n",
            "Time for epoch 161 is 9.843098402023315 sec\n",
            "Generator loss: 1.076839 Discriminator loss: 0.96087956\n",
            "Time for epoch 162 is 9.40010118484497 sec\n",
            "Generator loss: 0.9383152 Discriminator loss: 0.9930397\n",
            "Time for epoch 163 is 9.581989765167236 sec\n",
            "Generator loss: 0.9970498 Discriminator loss: 1.0272243\n",
            "Time for epoch 164 is 9.788064956665039 sec\n",
            "Generator loss: 0.9573833 Discriminator loss: 1.0026531\n",
            "Time for epoch 165 is 9.947781801223755 sec\n",
            "Generator loss: 0.99332255 Discriminator loss: 0.9899203\n",
            "Time for epoch 166 is 9.722551107406616 sec\n",
            "Generator loss: 0.97953683 Discriminator loss: 0.98980117\n",
            "Time for epoch 167 is 9.814656257629395 sec\n",
            "Generator loss: 0.9362398 Discriminator loss: 1.0200849\n",
            "Time for epoch 168 is 9.517133712768555 sec\n",
            "Generator loss: 1.0083511 Discriminator loss: 1.0229607\n",
            "Time for epoch 169 is 10.341964960098267 sec\n",
            "Generator loss: 0.85356766 Discriminator loss: 1.0418462\n",
            "Time for epoch 170 is 9.940428972244263 sec\n",
            "Generator loss: 0.8953568 Discriminator loss: 1.048846\n",
            "Time for epoch 171 is 9.770417928695679 sec\n",
            "Generator loss: 0.8038376 Discriminator loss: 1.0259277\n",
            "Time for epoch 172 is 9.652373790740967 sec\n",
            "Generator loss: 0.9942771 Discriminator loss: 1.0198263\n",
            "Time for epoch 173 is 10.101940393447876 sec\n",
            "Generator loss: 0.8687243 Discriminator loss: 1.0308498\n",
            "Time for epoch 174 is 9.868024349212646 sec\n",
            "Generator loss: 0.99966234 Discriminator loss: 1.0211518\n",
            "Time for epoch 175 is 9.935897588729858 sec\n",
            "Generator loss: 0.8679181 Discriminator loss: 1.0491343\n",
            "Time for epoch 176 is 10.140484094619751 sec\n",
            "Generator loss: 1.037667 Discriminator loss: 0.99413216\n",
            "Time for epoch 177 is 10.02044129371643 sec\n",
            "Generator loss: 0.9690751 Discriminator loss: 1.0297979\n",
            "Time for epoch 178 is 10.080508947372437 sec\n",
            "Generator loss: 0.82058436 Discriminator loss: 1.0749912\n",
            "Time for epoch 179 is 9.897605180740356 sec\n",
            "Generator loss: 0.8899362 Discriminator loss: 1.0250322\n",
            "Time for epoch 180 is 9.964112520217896 sec\n",
            "Generator loss: 0.9051852 Discriminator loss: 1.0472792\n",
            "Time for epoch 181 is 9.322874546051025 sec\n",
            "Generator loss: 0.965456 Discriminator loss: 1.0097585\n",
            "Time for epoch 182 is 9.731601238250732 sec\n",
            "Generator loss: 0.9205564 Discriminator loss: 1.060613\n",
            "Time for epoch 183 is 9.52160906791687 sec\n",
            "Generator loss: 0.9884098 Discriminator loss: 1.0736477\n",
            "Time for epoch 184 is 9.206350326538086 sec\n",
            "Generator loss: 1.0287466 Discriminator loss: 1.0177512\n",
            "Time for epoch 185 is 9.362870454788208 sec\n",
            "Generator loss: 0.89281946 Discriminator loss: 1.0273963\n",
            "Time for epoch 186 is 9.180689811706543 sec\n",
            "Generator loss: 0.8150808 Discriminator loss: 1.0470594\n",
            "Time for epoch 187 is 9.022634029388428 sec\n",
            "Generator loss: 0.9313325 Discriminator loss: 1.0311629\n",
            "Time for epoch 188 is 8.686511278152466 sec\n",
            "Generator loss: 0.9803951 Discriminator loss: 1.0431697\n",
            "Time for epoch 189 is 9.14581847190857 sec\n",
            "Generator loss: 1.0076797 Discriminator loss: 1.0179687\n",
            "Time for epoch 190 is 8.940005779266357 sec\n",
            "Generator loss: 0.8154981 Discriminator loss: 1.0549244\n",
            "Time for epoch 191 is 9.029105424880981 sec\n",
            "Generator loss: 0.98030716 Discriminator loss: 1.0429753\n",
            "Time for epoch 192 is 9.250250339508057 sec\n",
            "Generator loss: 0.90745753 Discriminator loss: 1.0538006\n",
            "Time for epoch 193 is 10.049692869186401 sec\n",
            "Generator loss: 0.9599472 Discriminator loss: 1.0173173\n",
            "Time for epoch 194 is 9.879684925079346 sec\n",
            "Generator loss: 1.0081096 Discriminator loss: 1.0214716\n",
            "Time for epoch 195 is 9.507631063461304 sec\n",
            "Generator loss: 0.99448293 Discriminator loss: 1.009912\n",
            "Time for epoch 196 is 9.594046592712402 sec\n",
            "Generator loss: 0.8298324 Discriminator loss: 1.055941\n",
            "Time for epoch 197 is 9.30039381980896 sec\n",
            "Generator loss: 0.930272 Discriminator loss: 1.0205492\n",
            "Time for epoch 198 is 9.243462324142456 sec\n",
            "Generator loss: 1.1064441 Discriminator loss: 1.0180011\n",
            "Time for epoch 199 is 9.646310567855835 sec\n",
            "Generator loss: 0.95606035 Discriminator loss: 1.0337523\n",
            "Time for epoch 200 is 9.670050621032715 sec\n",
            "Generator loss: 0.95170134 Discriminator loss: 1.0309637\n",
            "Time for epoch 201 is 9.457990884780884 sec\n",
            "Generator loss: 0.962332 Discriminator loss: 1.0535847\n",
            "Time for epoch 202 is 9.831713676452637 sec\n",
            "Generator loss: 1.0067322 Discriminator loss: 1.0285531\n",
            "Time for epoch 203 is 9.5438392162323 sec\n",
            "Generator loss: 0.90949416 Discriminator loss: 1.0341642\n",
            "Time for epoch 204 is 9.21305775642395 sec\n",
            "Generator loss: 0.94787604 Discriminator loss: 1.0622666\n",
            "Time for epoch 205 is 9.384800910949707 sec\n",
            "Generator loss: 1.0283256 Discriminator loss: 1.0590427\n",
            "Time for epoch 206 is 9.735148429870605 sec\n",
            "Generator loss: 0.91228604 Discriminator loss: 1.0458257\n",
            "Time for epoch 207 is 8.96369743347168 sec\n",
            "Generator loss: 0.9510948 Discriminator loss: 1.028494\n",
            "Time for epoch 208 is 9.525103330612183 sec\n",
            "Generator loss: 0.83783126 Discriminator loss: 1.0637827\n",
            "Time for epoch 209 is 9.509989261627197 sec\n",
            "Generator loss: 0.97326654 Discriminator loss: 1.0523744\n",
            "Time for epoch 210 is 9.78005337715149 sec\n",
            "Generator loss: 0.9200563 Discriminator loss: 1.0558753\n",
            "Time for epoch 211 is 9.278398990631104 sec\n",
            "Generator loss: 0.89593965 Discriminator loss: 1.0502571\n",
            "Time for epoch 212 is 9.553915739059448 sec\n",
            "Generator loss: 0.96942544 Discriminator loss: 1.0101347\n",
            "Time for epoch 213 is 10.517238855361938 sec\n",
            "Generator loss: 0.86284035 Discriminator loss: 1.0600177\n",
            "Time for epoch 214 is 9.659026622772217 sec\n",
            "Generator loss: 1.0573124 Discriminator loss: 0.9877421\n",
            "Time for epoch 215 is 9.934418439865112 sec\n",
            "Generator loss: 0.8902714 Discriminator loss: 1.0287969\n",
            "Time for epoch 216 is 9.794549465179443 sec\n",
            "Generator loss: 0.95328766 Discriminator loss: 1.0393753\n",
            "Time for epoch 217 is 9.558555126190186 sec\n",
            "Generator loss: 0.9664404 Discriminator loss: 1.0287843\n",
            "Time for epoch 218 is 9.626566648483276 sec\n",
            "Generator loss: 0.9302085 Discriminator loss: 1.051459\n",
            "Time for epoch 219 is 9.86039423942566 sec\n",
            "Generator loss: 0.9218956 Discriminator loss: 1.0796016\n",
            "Time for epoch 220 is 9.88219666481018 sec\n",
            "Generator loss: 0.98166597 Discriminator loss: 1.0323696\n",
            "Time for epoch 221 is 10.581711053848267 sec\n",
            "Generator loss: 0.857185 Discriminator loss: 1.0777956\n",
            "Time for epoch 222 is 10.612936019897461 sec\n",
            "Generator loss: 0.8717772 Discriminator loss: 1.0285645\n",
            "Time for epoch 223 is 10.396942138671875 sec\n",
            "Generator loss: 0.91462636 Discriminator loss: 1.0433753\n",
            "Time for epoch 224 is 10.44822382926941 sec\n",
            "Generator loss: 1.0050877 Discriminator loss: 1.0160757\n",
            "Time for epoch 225 is 10.00899052619934 sec\n",
            "Generator loss: 0.9021534 Discriminator loss: 1.0615087\n",
            "Time for epoch 226 is 10.68685269355774 sec\n",
            "Generator loss: 0.875775 Discriminator loss: 1.0490546\n",
            "Time for epoch 227 is 10.64147400856018 sec\n",
            "Generator loss: 0.8945385 Discriminator loss: 1.0807681\n",
            "Time for epoch 228 is 10.17251443862915 sec\n",
            "Generator loss: 0.87582177 Discriminator loss: 1.0428011\n",
            "Time for epoch 229 is 10.033966541290283 sec\n",
            "Generator loss: 0.86655897 Discriminator loss: 1.0551556\n",
            "Time for epoch 230 is 10.009991884231567 sec\n",
            "Generator loss: 0.9141739 Discriminator loss: 1.1022594\n",
            "Time for epoch 231 is 9.686549425125122 sec\n",
            "Generator loss: 0.91638994 Discriminator loss: 1.0522904\n",
            "Time for epoch 232 is 10.253682851791382 sec\n",
            "Generator loss: 0.86935544 Discriminator loss: 1.0728419\n",
            "Time for epoch 233 is 10.164840459823608 sec\n",
            "Generator loss: 0.9052538 Discriminator loss: 1.0505505\n",
            "Time for epoch 234 is 10.424141883850098 sec\n",
            "Generator loss: 0.9566629 Discriminator loss: 1.0802865\n",
            "Time for epoch 235 is 10.366546154022217 sec\n",
            "Generator loss: 0.88799393 Discriminator loss: 1.0940685\n",
            "Time for epoch 236 is 10.279528856277466 sec\n",
            "Generator loss: 0.8794676 Discriminator loss: 1.0675592\n",
            "Time for epoch 237 is 10.490537405014038 sec\n",
            "Generator loss: 0.9455433 Discriminator loss: 1.0566499\n",
            "Time for epoch 238 is 10.212596654891968 sec\n",
            "Generator loss: 0.9284663 Discriminator loss: 1.0531988\n",
            "Time for epoch 239 is 9.971373796463013 sec\n",
            "Generator loss: 0.8813607 Discriminator loss: 1.0441589\n",
            "Time for epoch 240 is 9.803296566009521 sec\n",
            "Generator loss: 0.8873552 Discriminator loss: 1.0811249\n",
            "Time for epoch 241 is 9.907241344451904 sec\n",
            "Generator loss: 1.0347579 Discriminator loss: 1.0640866\n",
            "Time for epoch 242 is 10.185810327529907 sec\n",
            "Generator loss: 0.93620443 Discriminator loss: 1.0699515\n",
            "Time for epoch 243 is 10.153661012649536 sec\n",
            "Generator loss: 0.8794103 Discriminator loss: 1.0758655\n",
            "Time for epoch 244 is 10.186350584030151 sec\n",
            "Generator loss: 0.8972475 Discriminator loss: 1.0623336\n",
            "Time for epoch 245 is 10.071404218673706 sec\n",
            "Generator loss: 0.90141183 Discriminator loss: 1.0703944\n",
            "Time for epoch 246 is 10.31118893623352 sec\n",
            "Generator loss: 0.98674536 Discriminator loss: 1.0645013\n",
            "Time for epoch 247 is 10.243155479431152 sec\n",
            "Generator loss: 0.9533699 Discriminator loss: 1.056454\n",
            "Time for epoch 248 is 10.005918741226196 sec\n",
            "Generator loss: 0.9423558 Discriminator loss: 1.068708\n",
            "Time for epoch 249 is 10.267760038375854 sec\n",
            "Generator loss: 0.8853611 Discriminator loss: 1.0604322\n",
            "Time for epoch 250 is 9.946379899978638 sec\n",
            "Generator loss: 0.9597588 Discriminator loss: 1.0589695\n",
            "Time for epoch 251 is 9.579824686050415 sec\n",
            "Generator loss: 0.92788607 Discriminator loss: 1.0760992\n",
            "Time for epoch 252 is 9.62384581565857 sec\n",
            "Generator loss: 0.8519594 Discriminator loss: 1.0878173\n",
            "Time for epoch 253 is 10.025392532348633 sec\n",
            "Generator loss: 0.9720352 Discriminator loss: 1.0703975\n",
            "Time for epoch 254 is 9.69316840171814 sec\n",
            "Generator loss: 0.9420826 Discriminator loss: 1.0581625\n",
            "Time for epoch 255 is 10.103970289230347 sec\n",
            "Generator loss: 0.9492642 Discriminator loss: 1.042695\n",
            "Time for epoch 256 is 9.840779781341553 sec\n",
            "Generator loss: 0.8819272 Discriminator loss: 1.0842453\n",
            "Time for epoch 257 is 9.895589828491211 sec\n",
            "Generator loss: 0.8295369 Discriminator loss: 1.0585958\n",
            "Time for epoch 258 is 9.563429832458496 sec\n",
            "Generator loss: 0.9643836 Discriminator loss: 1.0693759\n",
            "Time for epoch 259 is 9.696220397949219 sec\n",
            "Generator loss: 0.92529565 Discriminator loss: 1.0893527\n",
            "Time for epoch 260 is 9.785048246383667 sec\n",
            "Generator loss: 0.86952895 Discriminator loss: 1.0935149\n",
            "Time for epoch 261 is 10.186373710632324 sec\n",
            "Generator loss: 0.89829123 Discriminator loss: 1.0530529\n",
            "Time for epoch 262 is 10.241206884384155 sec\n",
            "Generator loss: 0.88084394 Discriminator loss: 1.0807515\n",
            "Time for epoch 263 is 10.056930541992188 sec\n",
            "Generator loss: 0.9236534 Discriminator loss: 1.0692215\n",
            "Time for epoch 264 is 10.604777812957764 sec\n",
            "Generator loss: 1.0276268 Discriminator loss: 1.078773\n",
            "Time for epoch 265 is 10.16712474822998 sec\n",
            "Generator loss: 0.8768524 Discriminator loss: 1.0752413\n",
            "Time for epoch 266 is 10.005690336227417 sec\n",
            "Generator loss: 0.8505982 Discriminator loss: 1.0903411\n",
            "Time for epoch 267 is 9.981692790985107 sec\n",
            "Generator loss: 0.8866191 Discriminator loss: 1.0714363\n",
            "Time for epoch 268 is 10.130171298980713 sec\n",
            "Generator loss: 0.9144186 Discriminator loss: 1.0799791\n",
            "Time for epoch 269 is 10.019678115844727 sec\n",
            "Generator loss: 0.90779436 Discriminator loss: 1.0509617\n",
            "Time for epoch 270 is 9.564098358154297 sec\n",
            "Generator loss: 0.9929537 Discriminator loss: 1.0581043\n",
            "Time for epoch 271 is 8.60632610321045 sec\n",
            "Generator loss: 0.800577 Discriminator loss: 1.1045779\n",
            "Time for epoch 272 is 8.165817499160767 sec\n",
            "Generator loss: 0.8907427 Discriminator loss: 1.0544888\n",
            "Time for epoch 273 is 8.787511348724365 sec\n",
            "Generator loss: 0.8704185 Discriminator loss: 1.0898368\n",
            "Time for epoch 274 is 8.322885274887085 sec\n",
            "Generator loss: 0.91177183 Discriminator loss: 1.0627325\n",
            "Time for epoch 275 is 9.306943893432617 sec\n",
            "Generator loss: 0.9051271 Discriminator loss: 1.0626223\n",
            "Time for epoch 276 is 9.553678274154663 sec\n",
            "Generator loss: 0.9337497 Discriminator loss: 1.0684643\n",
            "Time for epoch 277 is 9.71674656867981 sec\n",
            "Generator loss: 0.94241494 Discriminator loss: 1.0702491\n",
            "Time for epoch 278 is 10.025707960128784 sec\n",
            "Generator loss: 0.84791857 Discriminator loss: 1.0582027\n",
            "Time for epoch 279 is 10.207960605621338 sec\n",
            "Generator loss: 0.90912825 Discriminator loss: 1.0690639\n",
            "Time for epoch 280 is 9.797267198562622 sec\n",
            "Generator loss: 0.8554971 Discriminator loss: 1.0728681\n",
            "Time for epoch 281 is 9.989948511123657 sec\n",
            "Generator loss: 0.8257629 Discriminator loss: 1.0726945\n",
            "Time for epoch 282 is 10.234774112701416 sec\n",
            "Generator loss: 0.83134955 Discriminator loss: 1.0808887\n",
            "Time for epoch 283 is 10.274658441543579 sec\n",
            "Generator loss: 0.8535622 Discriminator loss: 1.0727191\n",
            "Time for epoch 284 is 10.735438823699951 sec\n",
            "Generator loss: 0.8703155 Discriminator loss: 1.0999546\n",
            "Time for epoch 285 is 10.52238130569458 sec\n",
            "Generator loss: 0.9717022 Discriminator loss: 1.0385356\n",
            "Time for epoch 286 is 10.647074460983276 sec\n",
            "Generator loss: 0.90134263 Discriminator loss: 1.0721109\n",
            "Time for epoch 287 is 10.188130378723145 sec\n",
            "Generator loss: 0.87027025 Discriminator loss: 1.085523\n",
            "Time for epoch 288 is 10.285039901733398 sec\n",
            "Generator loss: 0.8925008 Discriminator loss: 1.0823509\n",
            "Time for epoch 289 is 9.991153955459595 sec\n",
            "Generator loss: 0.9104867 Discriminator loss: 1.0779741\n",
            "Time for epoch 290 is 10.441110849380493 sec\n",
            "Generator loss: 0.84363586 Discriminator loss: 1.0732803\n",
            "Time for epoch 291 is 9.88066816329956 sec\n",
            "Generator loss: 0.9432335 Discriminator loss: 1.047688\n",
            "Time for epoch 292 is 9.854487180709839 sec\n",
            "Generator loss: 0.8497276 Discriminator loss: 1.1059155\n",
            "Time for epoch 293 is 10.27355170249939 sec\n",
            "Generator loss: 0.87973684 Discriminator loss: 1.075763\n",
            "Time for epoch 294 is 10.344742059707642 sec\n",
            "Generator loss: 0.967931 Discriminator loss: 1.0663983\n",
            "Time for epoch 295 is 10.416331052780151 sec\n",
            "Generator loss: 0.85528666 Discriminator loss: 1.0740514\n",
            "Time for epoch 296 is 10.45592212677002 sec\n",
            "Generator loss: 1.0374875 Discriminator loss: 1.0897104\n",
            "Time for epoch 297 is 10.53450059890747 sec\n",
            "Generator loss: 0.8034629 Discriminator loss: 1.1154188\n",
            "Time for epoch 298 is 9.877903699874878 sec\n",
            "Generator loss: 0.9213756 Discriminator loss: 1.1038129\n",
            "Time for epoch 299 is 9.77779245376587 sec\n",
            "Generator loss: 0.9230391 Discriminator loss: 1.0702906\n",
            "Time for epoch 300 is 10.134858131408691 sec\n",
            "Generator loss: 0.8100384 Discriminator loss: 1.1191376\n",
            "Time for epoch 301 is 10.13150954246521 sec\n",
            "Generator loss: 0.90438056 Discriminator loss: 1.1025867\n",
            "Time for epoch 302 is 10.17934775352478 sec\n",
            "Generator loss: 0.7955592 Discriminator loss: 1.0980234\n",
            "Time for epoch 303 is 10.34819221496582 sec\n",
            "Generator loss: 0.84487844 Discriminator loss: 1.1363592\n",
            "Time for epoch 304 is 10.087285280227661 sec\n",
            "Generator loss: 0.79864466 Discriminator loss: 1.116802\n",
            "Time for epoch 305 is 10.510591983795166 sec\n",
            "Generator loss: 0.82892245 Discriminator loss: 1.1003909\n",
            "Time for epoch 306 is 10.509499311447144 sec\n",
            "Generator loss: 0.88874054 Discriminator loss: 1.0755497\n",
            "Time for epoch 307 is 10.359183311462402 sec\n",
            "Generator loss: 0.7918792 Discriminator loss: 1.1031446\n",
            "Time for epoch 308 is 10.529597282409668 sec\n",
            "Generator loss: 0.79646146 Discriminator loss: 1.11538\n",
            "Time for epoch 309 is 11.060549259185791 sec\n",
            "Generator loss: 0.89122015 Discriminator loss: 1.0854344\n",
            "Time for epoch 310 is 10.370925903320312 sec\n",
            "Generator loss: 0.91246307 Discriminator loss: 1.0708797\n",
            "Time for epoch 311 is 9.935268878936768 sec\n",
            "Generator loss: 0.8192653 Discriminator loss: 1.1122072\n",
            "Time for epoch 312 is 9.806955575942993 sec\n",
            "Generator loss: 0.79073113 Discriminator loss: 1.0978122\n",
            "Time for epoch 313 is 10.022102355957031 sec\n",
            "Generator loss: 0.95660347 Discriminator loss: 1.0670673\n",
            "Time for epoch 314 is 10.41597294807434 sec\n",
            "Generator loss: 0.8649538 Discriminator loss: 1.0867229\n",
            "Time for epoch 315 is 10.356062650680542 sec\n",
            "Generator loss: 0.94315195 Discriminator loss: 1.0983288\n",
            "Time for epoch 316 is 10.768719911575317 sec\n",
            "Generator loss: 0.81037223 Discriminator loss: 1.1204984\n",
            "Time for epoch 317 is 10.437534809112549 sec\n",
            "Generator loss: 0.85375017 Discriminator loss: 1.0860851\n",
            "Time for epoch 318 is 10.428746223449707 sec\n",
            "Generator loss: 0.7449742 Discriminator loss: 1.1424628\n",
            "Time for epoch 319 is 10.689617156982422 sec\n",
            "Generator loss: 0.87576175 Discriminator loss: 1.1009414\n",
            "Time for epoch 320 is 10.418718099594116 sec\n",
            "Generator loss: 1.0035803 Discriminator loss: 1.1050516\n",
            "Time for epoch 321 is 9.793120622634888 sec\n",
            "Generator loss: 0.920551 Discriminator loss: 1.0711229\n",
            "Time for epoch 322 is 9.585977554321289 sec\n",
            "Generator loss: 0.88435584 Discriminator loss: 1.0755563\n",
            "Time for epoch 323 is 10.5835542678833 sec\n",
            "Generator loss: 0.9162143 Discriminator loss: 1.1155959\n",
            "Time for epoch 324 is 10.360891819000244 sec\n",
            "Generator loss: 0.90190744 Discriminator loss: 1.0753632\n",
            "Time for epoch 325 is 10.93275237083435 sec\n",
            "Generator loss: 0.98760766 Discriminator loss: 1.074006\n",
            "Time for epoch 326 is 10.535241842269897 sec\n",
            "Generator loss: 0.86792433 Discriminator loss: 1.089241\n",
            "Time for epoch 327 is 9.951865434646606 sec\n",
            "Generator loss: 0.9461324 Discriminator loss: 1.1142836\n",
            "Time for epoch 328 is 10.312148809432983 sec\n",
            "Generator loss: 0.9260391 Discriminator loss: 1.0841782\n",
            "Time for epoch 329 is 10.20260238647461 sec\n",
            "Generator loss: 0.8984705 Discriminator loss: 1.1073663\n",
            "Time for epoch 330 is 9.958553791046143 sec\n",
            "Generator loss: 0.86449695 Discriminator loss: 1.1257529\n",
            "Time for epoch 331 is 9.849422454833984 sec\n",
            "Generator loss: 0.94087255 Discriminator loss: 1.0584087\n",
            "Time for epoch 332 is 10.73193359375 sec\n",
            "Generator loss: 0.89997375 Discriminator loss: 1.0952808\n",
            "Time for epoch 333 is 10.283412456512451 sec\n",
            "Generator loss: 0.85145587 Discriminator loss: 1.1106576\n",
            "Time for epoch 334 is 10.461378335952759 sec\n",
            "Generator loss: 0.92108995 Discriminator loss: 1.0943685\n",
            "Time for epoch 335 is 9.793491840362549 sec\n",
            "Generator loss: 0.8652231 Discriminator loss: 1.1020186\n",
            "Time for epoch 336 is 10.462209224700928 sec\n",
            "Generator loss: 0.92374265 Discriminator loss: 1.0481228\n",
            "Time for epoch 337 is 9.896918773651123 sec\n",
            "Generator loss: 0.86875427 Discriminator loss: 1.0858369\n",
            "Time for epoch 338 is 9.832985162734985 sec\n",
            "Generator loss: 0.8380132 Discriminator loss: 1.1105158\n",
            "Time for epoch 339 is 9.778570413589478 sec\n",
            "Generator loss: 1.0316008 Discriminator loss: 1.0907104\n",
            "Time for epoch 340 is 9.762527227401733 sec\n",
            "Generator loss: 0.83516824 Discriminator loss: 1.1014063\n",
            "Time for epoch 341 is 9.50845456123352 sec\n",
            "Generator loss: 0.9526645 Discriminator loss: 1.082508\n",
            "Time for epoch 342 is 9.663843154907227 sec\n",
            "Generator loss: 0.8723286 Discriminator loss: 1.1015391\n",
            "Time for epoch 343 is 9.6845223903656 sec\n",
            "Generator loss: 0.8804472 Discriminator loss: 1.1420442\n",
            "Time for epoch 344 is 9.498634338378906 sec\n",
            "Generator loss: 0.93555933 Discriminator loss: 1.0898509\n",
            "Time for epoch 345 is 10.313533306121826 sec\n",
            "Generator loss: 0.93962824 Discriminator loss: 1.102123\n",
            "Time for epoch 346 is 10.140502691268921 sec\n",
            "Generator loss: 0.84500366 Discriminator loss: 1.0961065\n",
            "Time for epoch 347 is 9.795753955841064 sec\n",
            "Generator loss: 0.81570345 Discriminator loss: 1.0785873\n",
            "Time for epoch 348 is 9.799644231796265 sec\n",
            "Generator loss: 0.80757797 Discriminator loss: 1.0872124\n",
            "Time for epoch 349 is 9.725208759307861 sec\n",
            "Generator loss: 0.8782255 Discriminator loss: 1.0849903\n",
            "Time for epoch 350 is 10.107128620147705 sec\n",
            "Generator loss: 0.9000693 Discriminator loss: 1.0993433\n",
            "Time for epoch 351 is 9.901169776916504 sec\n",
            "Generator loss: 0.834671 Discriminator loss: 1.1183171\n",
            "Time for epoch 352 is 9.7579665184021 sec\n",
            "Generator loss: 0.88943744 Discriminator loss: 1.0811865\n",
            "Time for epoch 353 is 10.175595998764038 sec\n",
            "Generator loss: 0.9683087 Discriminator loss: 1.0600398\n",
            "Time for epoch 354 is 9.713907241821289 sec\n",
            "Generator loss: 0.9417517 Discriminator loss: 1.077378\n",
            "Time for epoch 355 is 9.68306016921997 sec\n",
            "Generator loss: 0.7600599 Discriminator loss: 1.1280916\n",
            "Time for epoch 356 is 9.564581394195557 sec\n",
            "Generator loss: 0.9877166 Discriminator loss: 1.0816798\n",
            "Time for epoch 357 is 9.681796073913574 sec\n",
            "Generator loss: 0.864238 Discriminator loss: 1.1060634\n",
            "Time for epoch 358 is 9.964349269866943 sec\n",
            "Generator loss: 0.8766112 Discriminator loss: 1.1070169\n",
            "Time for epoch 359 is 9.68277883529663 sec\n",
            "Generator loss: 0.8905207 Discriminator loss: 1.109486\n",
            "Time for epoch 360 is 9.705661058425903 sec\n",
            "Generator loss: 0.8838702 Discriminator loss: 1.0874475\n",
            "Time for epoch 361 is 9.837947130203247 sec\n",
            "Generator loss: 0.89446235 Discriminator loss: 1.1248087\n",
            "Time for epoch 362 is 10.144289016723633 sec\n",
            "Generator loss: 0.8990494 Discriminator loss: 1.0816619\n",
            "Time for epoch 363 is 10.6028413772583 sec\n",
            "Generator loss: 0.8687166 Discriminator loss: 1.0985904\n",
            "Time for epoch 364 is 9.946818351745605 sec\n",
            "Generator loss: 0.7841585 Discriminator loss: 1.111454\n",
            "Time for epoch 365 is 9.622724771499634 sec\n",
            "Generator loss: 0.9713829 Discriminator loss: 1.0813507\n",
            "Time for epoch 366 is 9.801277160644531 sec\n",
            "Generator loss: 0.86059207 Discriminator loss: 1.0851743\n",
            "Time for epoch 367 is 9.744087934494019 sec\n",
            "Generator loss: 0.7945278 Discriminator loss: 1.1032093\n",
            "Time for epoch 368 is 9.775474309921265 sec\n",
            "Generator loss: 0.88899875 Discriminator loss: 1.0596325\n",
            "Time for epoch 369 is 9.66005277633667 sec\n",
            "Generator loss: 0.8338789 Discriminator loss: 1.0748081\n",
            "Time for epoch 370 is 10.262162923812866 sec\n",
            "Generator loss: 0.8751042 Discriminator loss: 1.0895252\n",
            "Time for epoch 371 is 9.901143074035645 sec\n",
            "Generator loss: 0.83835363 Discriminator loss: 1.102144\n",
            "Time for epoch 372 is 9.916044473648071 sec\n",
            "Generator loss: 0.8672444 Discriminator loss: 1.0802746\n",
            "Time for epoch 373 is 9.859037399291992 sec\n",
            "Generator loss: 0.90090543 Discriminator loss: 1.076839\n",
            "Time for epoch 374 is 10.105610132217407 sec\n",
            "Generator loss: 0.9550443 Discriminator loss: 1.0656185\n",
            "Time for epoch 375 is 10.080268144607544 sec\n",
            "Generator loss: 0.8445636 Discriminator loss: 1.0963877\n",
            "Time for epoch 376 is 10.287164211273193 sec\n",
            "Generator loss: 0.9294921 Discriminator loss: 1.0783237\n",
            "Time for epoch 377 is 9.842548847198486 sec\n",
            "Generator loss: 0.8743547 Discriminator loss: 1.0910695\n",
            "Time for epoch 378 is 9.811729669570923 sec\n",
            "Generator loss: 0.8812709 Discriminator loss: 1.0962968\n",
            "Time for epoch 379 is 10.292354583740234 sec\n",
            "Generator loss: 0.7986014 Discriminator loss: 1.1204412\n",
            "Time for epoch 380 is 10.533879280090332 sec\n",
            "Generator loss: 0.79231596 Discriminator loss: 1.1253004\n",
            "Time for epoch 381 is 9.555253982543945 sec\n",
            "Generator loss: 0.86321044 Discriminator loss: 1.0916834\n",
            "Time for epoch 382 is 10.122637033462524 sec\n",
            "Generator loss: 0.8642482 Discriminator loss: 1.0963371\n",
            "Time for epoch 383 is 10.050198316574097 sec\n",
            "Generator loss: 0.90952843 Discriminator loss: 1.1052252\n",
            "Time for epoch 384 is 10.370541095733643 sec\n",
            "Generator loss: 0.87195337 Discriminator loss: 1.0793922\n",
            "Time for epoch 385 is 10.142174243927002 sec\n",
            "Generator loss: 0.82769454 Discriminator loss: 1.1236238\n",
            "Time for epoch 386 is 10.227717161178589 sec\n",
            "Generator loss: 0.8001156 Discriminator loss: 1.0961132\n",
            "Time for epoch 387 is 10.122696876525879 sec\n",
            "Generator loss: 0.8584537 Discriminator loss: 1.1189363\n",
            "Time for epoch 388 is 9.919277429580688 sec\n",
            "Generator loss: 0.9024151 Discriminator loss: 1.1194469\n",
            "Time for epoch 389 is 9.98805022239685 sec\n",
            "Generator loss: 0.94264436 Discriminator loss: 1.0888039\n",
            "Time for epoch 390 is 9.55898904800415 sec\n",
            "Generator loss: 0.9168352 Discriminator loss: 1.1051705\n",
            "Time for epoch 391 is 9.92899203300476 sec\n",
            "Generator loss: 0.84863114 Discriminator loss: 1.1010077\n",
            "Time for epoch 392 is 9.943392753601074 sec\n",
            "Generator loss: 0.821641 Discriminator loss: 1.0898149\n",
            "Time for epoch 393 is 9.939005851745605 sec\n",
            "Generator loss: 0.91143847 Discriminator loss: 1.1165789\n",
            "Time for epoch 394 is 9.650762557983398 sec\n",
            "Generator loss: 0.7976737 Discriminator loss: 1.0799717\n",
            "Time for epoch 395 is 9.445036172866821 sec\n",
            "Generator loss: 0.9115939 Discriminator loss: 1.0786563\n",
            "Time for epoch 396 is 9.55620002746582 sec\n",
            "Generator loss: 0.80693746 Discriminator loss: 1.1002297\n",
            "Time for epoch 397 is 9.767581462860107 sec\n",
            "Generator loss: 0.77388656 Discriminator loss: 1.1160228\n",
            "Time for epoch 398 is 10.270884037017822 sec\n",
            "Generator loss: 0.9102715 Discriminator loss: 1.1116145\n",
            "Time for epoch 399 is 9.635826826095581 sec\n",
            "Generator loss: 0.8786385 Discriminator loss: 1.1145186\n",
            "Time for epoch 400 is 9.831984519958496 sec\n",
            "Generator loss: 0.8489097 Discriminator loss: 1.1289713\n",
            "Time for epoch 401 is 9.514482259750366 sec\n",
            "Generator loss: 0.82890683 Discriminator loss: 1.10639\n",
            "Time for epoch 402 is 9.89772629737854 sec\n",
            "Generator loss: 0.820664 Discriminator loss: 1.1120845\n",
            "Time for epoch 403 is 9.791486740112305 sec\n",
            "Generator loss: 0.8366204 Discriminator loss: 1.1234318\n",
            "Time for epoch 404 is 10.474836349487305 sec\n",
            "Generator loss: 0.8994673 Discriminator loss: 1.0931475\n",
            "Time for epoch 405 is 9.943539381027222 sec\n",
            "Generator loss: 0.9155079 Discriminator loss: 1.0923529\n",
            "Time for epoch 406 is 9.958163022994995 sec\n",
            "Generator loss: 0.91963077 Discriminator loss: 1.0828412\n",
            "Time for epoch 407 is 10.43946361541748 sec\n",
            "Generator loss: 0.8866479 Discriminator loss: 1.1136409\n",
            "Time for epoch 408 is 10.178898334503174 sec\n",
            "Generator loss: 0.85143197 Discriminator loss: 1.10266\n",
            "Time for epoch 409 is 9.636229515075684 sec\n",
            "Generator loss: 0.85941994 Discriminator loss: 1.1211572\n",
            "Time for epoch 410 is 9.76085638999939 sec\n",
            "Generator loss: 0.83234024 Discriminator loss: 1.1215503\n",
            "Time for epoch 411 is 9.904199600219727 sec\n",
            "Generator loss: 0.84365714 Discriminator loss: 1.1276948\n",
            "Time for epoch 412 is 10.065252542495728 sec\n",
            "Generator loss: 0.86100584 Discriminator loss: 1.0880787\n",
            "Time for epoch 413 is 10.091814517974854 sec\n",
            "Generator loss: 0.8615689 Discriminator loss: 1.1077293\n",
            "Time for epoch 414 is 10.053804874420166 sec\n",
            "Generator loss: 0.9865402 Discriminator loss: 1.103072\n",
            "Time for epoch 415 is 10.400608777999878 sec\n",
            "Generator loss: 0.85852706 Discriminator loss: 1.1313763\n",
            "Time for epoch 416 is 10.103436946868896 sec\n",
            "Generator loss: 0.8432503 Discriminator loss: 1.0991266\n",
            "Time for epoch 417 is 9.977193832397461 sec\n",
            "Generator loss: 0.8660041 Discriminator loss: 1.080324\n",
            "Time for epoch 418 is 9.845115900039673 sec\n",
            "Generator loss: 0.9110893 Discriminator loss: 1.0946131\n",
            "Time for epoch 419 is 9.862925052642822 sec\n",
            "Generator loss: 0.8980819 Discriminator loss: 1.1006496\n",
            "Time for epoch 420 is 10.000811576843262 sec\n",
            "Generator loss: 0.9376614 Discriminator loss: 1.0854616\n",
            "Time for epoch 421 is 9.835736513137817 sec\n",
            "Generator loss: 0.9058644 Discriminator loss: 1.0876994\n",
            "Time for epoch 422 is 10.210581064224243 sec\n",
            "Generator loss: 0.7756533 Discriminator loss: 1.1244891\n",
            "Time for epoch 423 is 10.130817651748657 sec\n",
            "Generator loss: 0.87179667 Discriminator loss: 1.100877\n",
            "Time for epoch 424 is 9.950427293777466 sec\n",
            "Generator loss: 0.7606473 Discriminator loss: 1.1393915\n",
            "Time for epoch 425 is 10.31396484375 sec\n",
            "Generator loss: 0.92173165 Discriminator loss: 1.1066713\n",
            "Time for epoch 426 is 9.557664155960083 sec\n",
            "Generator loss: 0.92195857 Discriminator loss: 1.1084715\n",
            "Time for epoch 427 is 9.836939811706543 sec\n",
            "Generator loss: 0.7842183 Discriminator loss: 1.1091437\n",
            "Time for epoch 428 is 9.832446575164795 sec\n",
            "Generator loss: 0.8962999 Discriminator loss: 1.1061507\n",
            "Time for epoch 429 is 10.460901498794556 sec\n",
            "Generator loss: 0.864191 Discriminator loss: 1.0968087\n",
            "Time for epoch 430 is 10.337648868560791 sec\n",
            "Generator loss: 0.83042246 Discriminator loss: 1.1172042\n",
            "Time for epoch 431 is 10.10498309135437 sec\n",
            "Generator loss: 0.87995636 Discriminator loss: 1.1136503\n",
            "Time for epoch 432 is 10.42883586883545 sec\n",
            "Generator loss: 0.9079832 Discriminator loss: 1.0950241\n",
            "Time for epoch 433 is 10.235488891601562 sec\n",
            "Generator loss: 0.84848595 Discriminator loss: 1.1155672\n",
            "Time for epoch 434 is 10.60847806930542 sec\n",
            "Generator loss: 0.8713483 Discriminator loss: 1.1225522\n",
            "Time for epoch 435 is 10.235187292098999 sec\n",
            "Generator loss: 0.9125377 Discriminator loss: 1.1035895\n",
            "Time for epoch 436 is 10.555503368377686 sec\n",
            "Generator loss: 0.8683059 Discriminator loss: 1.0874997\n",
            "Time for epoch 437 is 9.835230827331543 sec\n",
            "Generator loss: 0.8576802 Discriminator loss: 1.0856254\n",
            "Time for epoch 438 is 10.048636436462402 sec\n",
            "Generator loss: 0.81017387 Discriminator loss: 1.0980186\n",
            "Time for epoch 439 is 10.069424629211426 sec\n",
            "Generator loss: 0.7835694 Discriminator loss: 1.1389582\n",
            "Time for epoch 440 is 10.465022563934326 sec\n",
            "Generator loss: 0.8929177 Discriminator loss: 1.0956641\n",
            "Time for epoch 441 is 9.918783903121948 sec\n",
            "Generator loss: 0.83248365 Discriminator loss: 1.0871737\n",
            "Time for epoch 442 is 10.236587762832642 sec\n",
            "Generator loss: 0.8044076 Discriminator loss: 1.1107799\n",
            "Time for epoch 443 is 10.231536626815796 sec\n",
            "Generator loss: 0.85116625 Discriminator loss: 1.1007288\n",
            "Time for epoch 444 is 10.095384120941162 sec\n",
            "Generator loss: 0.8861365 Discriminator loss: 1.0951121\n",
            "Time for epoch 445 is 10.182775497436523 sec\n",
            "Generator loss: 0.81508666 Discriminator loss: 1.1053216\n",
            "Time for epoch 446 is 10.360147953033447 sec\n",
            "Generator loss: 0.8863 Discriminator loss: 1.1152303\n",
            "Time for epoch 447 is 10.363159656524658 sec\n",
            "Generator loss: 0.8223109 Discriminator loss: 1.0975815\n",
            "Time for epoch 448 is 10.045547008514404 sec\n",
            "Generator loss: 0.8630204 Discriminator loss: 1.1218733\n",
            "Time for epoch 449 is 10.143047571182251 sec\n",
            "Generator loss: 0.9695506 Discriminator loss: 1.0752548\n",
            "Time for epoch 450 is 10.281869173049927 sec\n",
            "Generator loss: 0.8243469 Discriminator loss: 1.114472\n",
            "Time for epoch 451 is 10.032015085220337 sec\n",
            "Generator loss: 0.8344027 Discriminator loss: 1.1315484\n",
            "Time for epoch 452 is 10.035445928573608 sec\n",
            "Generator loss: 0.8585942 Discriminator loss: 1.1271467\n",
            "Time for epoch 453 is 9.851454496383667 sec\n",
            "Generator loss: 0.91786164 Discriminator loss: 1.0952038\n",
            "Time for epoch 454 is 9.983434200286865 sec\n",
            "Generator loss: 0.87277204 Discriminator loss: 1.0902249\n",
            "Time for epoch 455 is 10.285085201263428 sec\n",
            "Generator loss: 0.89526224 Discriminator loss: 1.0999808\n",
            "Time for epoch 456 is 10.15867280960083 sec\n",
            "Generator loss: 0.81483054 Discriminator loss: 1.1112\n",
            "Time for epoch 457 is 10.142750978469849 sec\n",
            "Generator loss: 0.8674414 Discriminator loss: 1.0902152\n",
            "Time for epoch 458 is 10.4238760471344 sec\n",
            "Generator loss: 0.90009063 Discriminator loss: 1.0930362\n",
            "Time for epoch 459 is 10.075746536254883 sec\n",
            "Generator loss: 0.86817557 Discriminator loss: 1.09254\n",
            "Time for epoch 460 is 9.43144679069519 sec\n",
            "Generator loss: 0.8268523 Discriminator loss: 1.1295438\n",
            "Time for epoch 461 is 9.597167491912842 sec\n",
            "Generator loss: 0.8611399 Discriminator loss: 1.1041859\n",
            "Time for epoch 462 is 9.91857123374939 sec\n",
            "Generator loss: 0.83003074 Discriminator loss: 1.1046507\n",
            "Time for epoch 463 is 10.206905841827393 sec\n",
            "Generator loss: 0.77943504 Discriminator loss: 1.121584\n",
            "Time for epoch 464 is 9.500144004821777 sec\n",
            "Generator loss: 0.8068251 Discriminator loss: 1.1221399\n",
            "Time for epoch 465 is 9.709665775299072 sec\n",
            "Generator loss: 0.9479683 Discriminator loss: 1.1033027\n",
            "Time for epoch 466 is 10.111284017562866 sec\n",
            "Generator loss: 0.841068 Discriminator loss: 1.106499\n",
            "Time for epoch 467 is 9.638859272003174 sec\n",
            "Generator loss: 0.80792296 Discriminator loss: 1.1258018\n",
            "Time for epoch 468 is 9.830761194229126 sec\n",
            "Generator loss: 0.84964347 Discriminator loss: 1.1003977\n",
            "Time for epoch 469 is 9.679127931594849 sec\n",
            "Generator loss: 0.86063266 Discriminator loss: 1.1100049\n",
            "Time for epoch 470 is 9.42993712425232 sec\n",
            "Generator loss: 0.8411227 Discriminator loss: 1.1061158\n",
            "Time for epoch 471 is 9.703721523284912 sec\n",
            "Generator loss: 0.90723693 Discriminator loss: 1.1393151\n",
            "Time for epoch 472 is 9.608532428741455 sec\n",
            "Generator loss: 0.8155054 Discriminator loss: 1.1140918\n",
            "Time for epoch 473 is 9.481709718704224 sec\n",
            "Generator loss: 0.842223 Discriminator loss: 1.1050494\n",
            "Time for epoch 474 is 9.7425217628479 sec\n",
            "Generator loss: 0.8448367 Discriminator loss: 1.1080319\n",
            "Time for epoch 475 is 9.916565656661987 sec\n",
            "Generator loss: 0.9109667 Discriminator loss: 1.0834843\n",
            "Time for epoch 476 is 9.549985647201538 sec\n",
            "Generator loss: 0.8719708 Discriminator loss: 1.1215223\n",
            "Time for epoch 477 is 9.618866682052612 sec\n",
            "Generator loss: 0.9106958 Discriminator loss: 1.1338835\n",
            "Time for epoch 478 is 9.823958158493042 sec\n",
            "Generator loss: 0.7977014 Discriminator loss: 1.1417584\n",
            "Time for epoch 479 is 9.433327674865723 sec\n",
            "Generator loss: 0.893593 Discriminator loss: 1.1123748\n",
            "Time for epoch 480 is 9.727989912033081 sec\n",
            "Generator loss: 0.92764753 Discriminator loss: 1.1088779\n",
            "Time for epoch 481 is 9.863091230392456 sec\n",
            "Generator loss: 0.8881855 Discriminator loss: 1.0910647\n",
            "Time for epoch 482 is 9.85671067237854 sec\n",
            "Generator loss: 0.93611246 Discriminator loss: 1.0886335\n",
            "Time for epoch 483 is 9.684223175048828 sec\n",
            "Generator loss: 0.8198443 Discriminator loss: 1.097096\n",
            "Time for epoch 484 is 9.694611549377441 sec\n",
            "Generator loss: 0.8453085 Discriminator loss: 1.1237773\n",
            "Time for epoch 485 is 9.7910737991333 sec\n",
            "Generator loss: 0.9191821 Discriminator loss: 1.1003389\n",
            "Time for epoch 486 is 9.54941201210022 sec\n",
            "Generator loss: 0.86692804 Discriminator loss: 1.1050639\n",
            "Time for epoch 487 is 9.256954193115234 sec\n",
            "Generator loss: 0.8443211 Discriminator loss: 1.0938807\n",
            "Time for epoch 488 is 9.879237651824951 sec\n",
            "Generator loss: 0.9396752 Discriminator loss: 1.0613357\n",
            "Time for epoch 489 is 9.8839111328125 sec\n",
            "Generator loss: 0.8676907 Discriminator loss: 1.1015458\n",
            "Time for epoch 490 is 10.270408868789673 sec\n",
            "Generator loss: 0.94400465 Discriminator loss: 1.0884122\n",
            "Time for epoch 491 is 10.561512231826782 sec\n",
            "Generator loss: 0.82670385 Discriminator loss: 1.1463662\n",
            "Time for epoch 492 is 10.248860597610474 sec\n",
            "Generator loss: 0.89438766 Discriminator loss: 1.1342487\n",
            "Time for epoch 493 is 10.11437201499939 sec\n",
            "Generator loss: 0.8690809 Discriminator loss: 1.1376882\n",
            "Time for epoch 494 is 9.936096429824829 sec\n",
            "Generator loss: 0.8385167 Discriminator loss: 1.1392729\n",
            "Time for epoch 495 is 10.26170039176941 sec\n",
            "Generator loss: 0.90859205 Discriminator loss: 1.1065485\n",
            "Time for epoch 496 is 9.671509027481079 sec\n",
            "Generator loss: 0.9235231 Discriminator loss: 1.0946031\n",
            "Time for epoch 497 is 9.675154685974121 sec\n",
            "Generator loss: 0.84361166 Discriminator loss: 1.0955756\n",
            "Time for epoch 498 is 9.261233568191528 sec\n",
            "Generator loss: 0.8269147 Discriminator loss: 1.1070457\n",
            "Time for epoch 499 is 9.76470398902893 sec\n",
            "Generator loss: 0.8641376 Discriminator loss: 1.0989349\n",
            "Time for epoch 500 is 9.550500392913818 sec\n",
            "CPU times: user 1h 58min 6s, sys: 20min 40s, total: 2h 18min 47s\n",
            "Wall time: 1h 22min 14s\n"
          ],
          "name": "stdout"
        }
      ]
    },
    {
      "cell_type": "markdown",
      "metadata": {
        "id": "lsspbAV0ZDor",
        "colab_type": "text"
      },
      "source": [
        "### Generator의 loss 값의 변화"
      ]
    },
    {
      "cell_type": "code",
      "metadata": {
        "id": "8CpYUUB3Y9-5",
        "colab_type": "code",
        "outputId": "5dceef9d-d2cf-4cf7-9a33-364a63899eb6",
        "colab": {
          "base_uri": "https://localhost:8080/",
          "height": 305
        }
      },
      "source": [
        "plt.plot(g_loss_list, 'r')\n",
        "plt.ylabel('loss', fontsize=14)\n",
        "plt.xlabel('epoch', fontsize=14)\n",
        "plt.legend([\"Loss of G\"], fontsize=16)"
      ],
      "execution_count": 0,
      "outputs": [
        {
          "output_type": "execute_result",
          "data": {
            "text/plain": [
              "<matplotlib.legend.Legend at 0x7f8a7a741a20>"
            ]
          },
          "metadata": {
            "tags": []
          },
          "execution_count": 76
        },
        {
          "output_type": "display_data",
          "data": {
            "image/png": "[encoded data removed]",
            "text/plain": [
              "<Figure size 432x288 with 1 Axes>"
            ]
          },
          "metadata": {
            "tags": []
          }
        }
      ]
    },
    {
      "cell_type": "markdown",
      "metadata": {
        "id": "EPBrnbngZZYg",
        "colab_type": "text"
      },
      "source": [
        "위에서 학습시킨 바와 같이, 1에 가까워지는 것을 확인할 수 있다."
      ]
    },
    {
      "cell_type": "markdown",
      "metadata": {
        "id": "JL5GjRD-ZNlS",
        "colab_type": "text"
      },
      "source": [
        "### Discriminator의 loss 값의 변화"
      ]
    },
    {
      "cell_type": "code",
      "metadata": {
        "id": "uSfyrJJwZUEC",
        "colab_type": "code",
        "outputId": "86900210-217d-4a0f-fb4d-708a137257fb",
        "colab": {
          "base_uri": "https://localhost:8080/",
          "height": 305
        }
      },
      "source": [
        "plt.plot(d_loss_list, 'g')\n",
        "plt.ylabel('loss', fontsize=14)\n",
        "plt.xlabel('epoch', fontsize=14)\n",
        "plt.legend([\"Loss of D\"], fontsize=16)"
      ],
      "execution_count": 0,
      "outputs": [
        {
          "output_type": "execute_result",
          "data": {
            "text/plain": [
              "<matplotlib.legend.Legend at 0x7f8a7768d240>"
            ]
          },
          "metadata": {
            "tags": []
          },
          "execution_count": 77
        },
        {
          "output_type": "display_data",
          "data": {
            "image/png": "[encoded data removed]",
            "text/plain": [
              "<Figure size 432x288 with 1 Axes>"
            ]
          },
          "metadata": {
            "tags": []
          }
        }
      ]
    },
    {
      "cell_type": "markdown",
      "metadata": {
        "id": "Qr-2KQvIZgcP",
        "colab_type": "text"
      },
      "source": [
        "역시 1에 가까워지는 것을 확인할 수 있다."
      ]
    },
    {
      "cell_type": "code",
      "metadata": {
        "id": "95nITXL4YC7W",
        "colab_type": "code",
        "outputId": "60056b8d-a7af-4a83-8443-dabad7afbe90",
        "colab": {
          "base_uri": "https://localhost:8080/",
          "height": 774
        }
      },
      "source": [
        "# Generator가 만들어 낸 노이즈 이미지 테스트 해보기\n",
        "\n",
        "import matplotlib.pyplot as plt\n",
        "\n",
        "noises = tf.random.normal([50, 100]) \n",
        "generated_image = G([noises, train_label_onehots[:50]], training=False)\n",
        "print(train_label_onehots[:10])\n",
        "fig, axes = plt.subplots(nrows=5, ncols=2, figsize=(10,10))\n",
        "\n",
        "for ax in axes.flat:\n",
        "  ax.axis('off')\n",
        "\n",
        "axes[0,0].imshow(generated_image[0], cmap='gray')\n",
        "axes[0,1].imshow(generated_image[1], cmap='gray')\n",
        "axes[1,0].imshow(generated_image[2], cmap='gray')\n",
        "axes[1,1].imshow(generated_image[3], cmap='gray')\n",
        "axes[2,0].imshow(generated_image[4], cmap='gray')\n",
        "axes[2,1].imshow(generated_image[5], cmap='gray')\n",
        "axes[3,0].imshow(generated_image[6], cmap='gray')\n",
        "axes[3,1].imshow(generated_image[7], cmap='gray')\n",
        "axes[4,0].imshow(generated_image[8], cmap='gray')\n",
        "axes[4,1].imshow(generated_image[9], cmap='gray')\n",
        "\n",
        "plt.show()"
      ],
      "execution_count": 0,
      "outputs": [
        {
          "output_type": "stream",
          "text": [
            "[[0. 0. 0. 0. 0. 1. 0. 0. 0. 0.]\n",
            " [1. 0. 0. 0. 0. 0. 0. 0. 0. 0.]\n",
            " [0. 0. 0. 0. 1. 0. 0. 0. 0. 0.]\n",
            " [0. 1. 0. 0. 0. 0. 0. 0. 0. 0.]\n",
            " [0. 0. 0. 0. 0. 0. 0. 0. 0. 1.]\n",
            " [0. 0. 1. 0. 0. 0. 0. 0. 0. 0.]\n",
            " [0. 1. 0. 0. 0. 0. 0. 0. 0. 0.]\n",
            " [0. 0. 0. 1. 0. 0. 0. 0. 0. 0.]\n",
            " [0. 1. 0. 0. 0. 0. 0. 0. 0. 0.]\n",
            " [0. 0. 0. 0. 1. 0. 0. 0. 0. 0.]]\n"
          ],
          "name": "stdout"
        },
        {
          "output_type": "display_data",
          "data": {
            "image/png": "[encoded data removed]",
            "text/plain": [
              "<Figure size 720x720 with 10 Axes>"
            ]
          },
          "metadata": {
            "tags": []
          }
        }
      ]
    },
    {
      "cell_type": "markdown",
      "metadata": {
        "id": "aVZj7iNVZzAY",
        "colab_type": "text"
      },
      "source": [
        "500번 학습을 진행한 결과, 50번 학습했을 때보다 훨씬 선명하게 숫자가 출력된 것을 확인할 수 있다. 더 많이 학습시킬 수록 좋은 결과가 출력될 것이라고 예상할 수 있다."
      ]
    }
  ]
}